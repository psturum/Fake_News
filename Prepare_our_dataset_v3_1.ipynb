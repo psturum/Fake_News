{
 "cells": [
  {
   "cell_type": "markdown",
   "metadata": {
    "id": "_w34EfZx37We"
   },
   "source": [
    "# Prepare dataset"
   ]
  },
  {
   "cell_type": "code",
   "execution_count": 1,
   "metadata": {
    "id": "ywueP8ap_9YY"
   },
   "outputs": [],
   "source": [
    "import pandas as pd\n",
    "import numpy as np\n",
    "from collections import Counter"
   ]
  },
  {
   "cell_type": "code",
   "execution_count": 2,
   "metadata": {
    "id": "qETKjcsrAaIy"
   },
   "outputs": [],
   "source": [
    "##from google.colab import drive\n",
    "\n",
    "##drive.mount(\"/content/gdrive\")\n",
    "\n",
    "my_dir = \"C:/Users/antoi/Downloads/\""
   ]
  },
  {
   "cell_type": "code",
   "execution_count": 3,
   "metadata": {
    "colab": {
     "base_uri": "https://localhost:8080/"
    },
    "id": "49qlVVXZ0nob",
    "outputId": "df79bfa4-d118-4f64-8604-49d6652dc57a"
   },
   "outputs": [
    {
     "name": "stderr",
     "output_type": "stream",
     "text": [
      "C:\\Users\\antoi\\anaconda3\\lib\\site-packages\\IPython\\core\\interactiveshell.py:3146: DtypeWarning: Columns (0,1) have mixed types.Specify dtype option on import or set low_memory=False.\n",
      "  has_raised = await self.run_ast_nodes(code_ast.body, cell_name,\n"
     ]
    }
   ],
   "source": [
    "all_raw_data = pd.read_csv(my_dir + \"1mio-raw.csv\") # all"
   ]
  },
  {
   "cell_type": "code",
   "execution_count": 4,
   "metadata": {
    "colab": {
     "base_uri": "https://localhost:8080/",
     "height": 598
    },
    "id": "LFFRFkM9-qx8",
    "outputId": "3abd9e0e-3e1c-4e01-f4a7-274a90a761dd"
   },
   "outputs": [
    {
     "data": {
      "text/html": [
       "<div>\n",
       "<style scoped>\n",
       "    .dataframe tbody tr th:only-of-type {\n",
       "        vertical-align: middle;\n",
       "    }\n",
       "\n",
       "    .dataframe tbody tr th {\n",
       "        vertical-align: top;\n",
       "    }\n",
       "\n",
       "    .dataframe thead th {\n",
       "        text-align: right;\n",
       "    }\n",
       "</style>\n",
       "<table border=\"1\" class=\"dataframe\">\n",
       "  <thead>\n",
       "    <tr style=\"text-align: right;\">\n",
       "      <th></th>\n",
       "      <th>Unnamed: 0</th>\n",
       "      <th>id</th>\n",
       "      <th>domain</th>\n",
       "      <th>type</th>\n",
       "      <th>url</th>\n",
       "      <th>content</th>\n",
       "      <th>scraped_at</th>\n",
       "      <th>inserted_at</th>\n",
       "      <th>updated_at</th>\n",
       "      <th>title</th>\n",
       "      <th>authors</th>\n",
       "      <th>keywords</th>\n",
       "      <th>meta_keywords</th>\n",
       "      <th>meta_description</th>\n",
       "      <th>tags</th>\n",
       "      <th>summary</th>\n",
       "      <th>source</th>\n",
       "    </tr>\n",
       "  </thead>\n",
       "  <tbody>\n",
       "    <tr>\n",
       "      <th>0</th>\n",
       "      <td>0</td>\n",
       "      <td>2</td>\n",
       "      <td>express.co.uk</td>\n",
       "      <td>rumor</td>\n",
       "      <td>https://www.express.co.uk/news/science/738402/...</td>\n",
       "      <td>Life is an illusion, at least on a quantum lev...</td>\n",
       "      <td>2018-01-25 16:17:44.789555</td>\n",
       "      <td>2018-02-02 01:19:41.756632</td>\n",
       "      <td>2018-02-02 01:19:41.756664</td>\n",
       "      <td>Is life an ILLUSION? Researchers prove 'realit...</td>\n",
       "      <td>Sean Martin</td>\n",
       "      <td>NaN</td>\n",
       "      <td>['']</td>\n",
       "      <td>THE UNIVERSE ceases to exist when we are not l...</td>\n",
       "      <td>NaN</td>\n",
       "      <td>NaN</td>\n",
       "      <td>NaN</td>\n",
       "    </tr>\n",
       "    <tr>\n",
       "      <th>1</th>\n",
       "      <td>1</td>\n",
       "      <td>6</td>\n",
       "      <td>barenakedislam.com</td>\n",
       "      <td>hate</td>\n",
       "      <td>http://barenakedislam.com/category/donald-trum...</td>\n",
       "      <td>Unfortunately, he hasn’t yet attacked her for ...</td>\n",
       "      <td>2018-01-25 16:17:44.789555</td>\n",
       "      <td>2018-02-02 01:19:41.756632</td>\n",
       "      <td>2018-02-02 01:19:41.756664</td>\n",
       "      <td>Donald Trump</td>\n",
       "      <td>Linda Rivera, Conrad Calvano, Az Gal, Lincoln ...</td>\n",
       "      <td>NaN</td>\n",
       "      <td>['']</td>\n",
       "      <td>NaN</td>\n",
       "      <td>NaN</td>\n",
       "      <td>NaN</td>\n",
       "      <td>NaN</td>\n",
       "    </tr>\n",
       "    <tr>\n",
       "      <th>2</th>\n",
       "      <td>2</td>\n",
       "      <td>7</td>\n",
       "      <td>barenakedislam.com</td>\n",
       "      <td>hate</td>\n",
       "      <td>http://barenakedislam.com/category/donald-trum...</td>\n",
       "      <td>The Los Angeles Police Department has been den...</td>\n",
       "      <td>2018-01-25 16:17:44.789555</td>\n",
       "      <td>2018-02-02 01:19:41.756632</td>\n",
       "      <td>2018-02-02 01:19:41.756664</td>\n",
       "      <td>Donald Trump</td>\n",
       "      <td>Linda Rivera, Conrad Calvano, Az Gal, Lincoln ...</td>\n",
       "      <td>NaN</td>\n",
       "      <td>['']</td>\n",
       "      <td>NaN</td>\n",
       "      <td>NaN</td>\n",
       "      <td>NaN</td>\n",
       "      <td>NaN</td>\n",
       "    </tr>\n",
       "    <tr>\n",
       "      <th>3</th>\n",
       "      <td>3</td>\n",
       "      <td>8</td>\n",
       "      <td>barenakedislam.com</td>\n",
       "      <td>hate</td>\n",
       "      <td>http://barenakedislam.com/2017/12/24/more-winn...</td>\n",
       "      <td>The White House has decided to quietly withdra...</td>\n",
       "      <td>2018-01-25 16:17:44.789555</td>\n",
       "      <td>2018-02-02 01:19:41.756632</td>\n",
       "      <td>2018-02-02 01:19:41.756664</td>\n",
       "      <td>MORE WINNING! Israeli intelligence source, DEB...</td>\n",
       "      <td>Cleavis Nowell, Cleavisnowell, Clarence J. Fei...</td>\n",
       "      <td>NaN</td>\n",
       "      <td>['']</td>\n",
       "      <td>NaN</td>\n",
       "      <td>NaN</td>\n",
       "      <td>NaN</td>\n",
       "      <td>NaN</td>\n",
       "    </tr>\n",
       "    <tr>\n",
       "      <th>4</th>\n",
       "      <td>4</td>\n",
       "      <td>9</td>\n",
       "      <td>barenakedislam.com</td>\n",
       "      <td>hate</td>\n",
       "      <td>http://barenakedislam.com/2017/12/25/oh-trump-...</td>\n",
       "      <td>“The time has come to cut off the tongues of t...</td>\n",
       "      <td>2018-01-25 16:17:44.789555</td>\n",
       "      <td>2018-02-02 01:19:41.756632</td>\n",
       "      <td>2018-02-02 01:19:41.756664</td>\n",
       "      <td>“Oh, Trump, you coward, you just wait, we will...</td>\n",
       "      <td>F.N. Lehner, Don Spilman, Clarence J. Feinour,...</td>\n",
       "      <td>NaN</td>\n",
       "      <td>['']</td>\n",
       "      <td>NaN</td>\n",
       "      <td>NaN</td>\n",
       "      <td>NaN</td>\n",
       "      <td>NaN</td>\n",
       "    </tr>\n",
       "  </tbody>\n",
       "</table>\n",
       "</div>"
      ],
      "text/plain": [
       "  Unnamed: 0 id              domain   type  \\\n",
       "0          0  2       express.co.uk  rumor   \n",
       "1          1  6  barenakedislam.com   hate   \n",
       "2          2  7  barenakedislam.com   hate   \n",
       "3          3  8  barenakedislam.com   hate   \n",
       "4          4  9  barenakedislam.com   hate   \n",
       "\n",
       "                                                 url  \\\n",
       "0  https://www.express.co.uk/news/science/738402/...   \n",
       "1  http://barenakedislam.com/category/donald-trum...   \n",
       "2  http://barenakedislam.com/category/donald-trum...   \n",
       "3  http://barenakedislam.com/2017/12/24/more-winn...   \n",
       "4  http://barenakedislam.com/2017/12/25/oh-trump-...   \n",
       "\n",
       "                                             content  \\\n",
       "0  Life is an illusion, at least on a quantum lev...   \n",
       "1  Unfortunately, he hasn’t yet attacked her for ...   \n",
       "2  The Los Angeles Police Department has been den...   \n",
       "3  The White House has decided to quietly withdra...   \n",
       "4  “The time has come to cut off the tongues of t...   \n",
       "\n",
       "                   scraped_at                 inserted_at  \\\n",
       "0  2018-01-25 16:17:44.789555  2018-02-02 01:19:41.756632   \n",
       "1  2018-01-25 16:17:44.789555  2018-02-02 01:19:41.756632   \n",
       "2  2018-01-25 16:17:44.789555  2018-02-02 01:19:41.756632   \n",
       "3  2018-01-25 16:17:44.789555  2018-02-02 01:19:41.756632   \n",
       "4  2018-01-25 16:17:44.789555  2018-02-02 01:19:41.756632   \n",
       "\n",
       "                   updated_at  \\\n",
       "0  2018-02-02 01:19:41.756664   \n",
       "1  2018-02-02 01:19:41.756664   \n",
       "2  2018-02-02 01:19:41.756664   \n",
       "3  2018-02-02 01:19:41.756664   \n",
       "4  2018-02-02 01:19:41.756664   \n",
       "\n",
       "                                               title  \\\n",
       "0  Is life an ILLUSION? Researchers prove 'realit...   \n",
       "1                                       Donald Trump   \n",
       "2                                       Donald Trump   \n",
       "3  MORE WINNING! Israeli intelligence source, DEB...   \n",
       "4  “Oh, Trump, you coward, you just wait, we will...   \n",
       "\n",
       "                                             authors  keywords meta_keywords  \\\n",
       "0                                        Sean Martin       NaN          ['']   \n",
       "1  Linda Rivera, Conrad Calvano, Az Gal, Lincoln ...       NaN          ['']   \n",
       "2  Linda Rivera, Conrad Calvano, Az Gal, Lincoln ...       NaN          ['']   \n",
       "3  Cleavis Nowell, Cleavisnowell, Clarence J. Fei...       NaN          ['']   \n",
       "4  F.N. Lehner, Don Spilman, Clarence J. Feinour,...       NaN          ['']   \n",
       "\n",
       "                                    meta_description tags  summary  source  \n",
       "0  THE UNIVERSE ceases to exist when we are not l...  NaN      NaN     NaN  \n",
       "1                                                NaN  NaN      NaN     NaN  \n",
       "2                                                NaN  NaN      NaN     NaN  \n",
       "3                                                NaN  NaN      NaN     NaN  \n",
       "4                                                NaN  NaN      NaN     NaN  "
      ]
     },
     "execution_count": 4,
     "metadata": {},
     "output_type": "execute_result"
    }
   ],
   "source": [
    "all_raw_data.head()"
   ]
  },
  {
   "cell_type": "code",
   "execution_count": 5,
   "metadata": {
    "colab": {
     "base_uri": "https://localhost:8080/"
    },
    "id": "nAeZkJVt01NR",
    "outputId": "c361472f-d719-4f39-caa7-20fe52625f91"
   },
   "outputs": [
    {
     "name": "stdout",
     "output_type": "stream",
     "text": [
      "Counter({'political': 289666, 'unreliable': 141614, 'bias': 136381, 'fake': 123929, 'conspiracy': 109793, 'unknown': 47413, 'rumor': 46524, nan: 41066, 'clickbait': 21723, 'junksci': 17408, 'satire': 14263, 'reliable': 6601, 'hate': 3619})\n"
     ]
    }
   ],
   "source": [
    "print(Counter(all_raw_data['type'].values))"
   ]
  },
  {
   "cell_type": "code",
   "execution_count": 6,
   "metadata": {
    "id": "_lSg40Ei4A5_"
   },
   "outputs": [],
   "source": [
    "political = all_raw_data[all_raw_data[\"type\"]== \"political\"]\n",
    "fake = all_raw_data[all_raw_data[\"type\"]== \"fake\"]\n",
    "satire = all_raw_data[all_raw_data[\"type\"]== \"satire\"]\n",
    "clickbait = all_raw_data[all_raw_data[\"type\"]== \"clickbait\"]\n",
    "conspiracy = all_raw_data[all_raw_data[\"type\"]== \"conspiracy\"]\n",
    "reliable = all_raw_data[all_raw_data[\"type\"]== \"reliable\"]\n",
    "bias = all_raw_data[all_raw_data[\"type\"]== \"bias\"]\n",
    "junksci = all_raw_data[all_raw_data[\"type\"]== \"junksci\"]\n",
    "hate = all_raw_data[all_raw_data[\"type\"]== \"hate\"]\n",
    "unreliable = all_raw_data[all_raw_data[\"type\"]== \"unreliable\"]"
   ]
  },
  {
   "cell_type": "code",
   "execution_count": 7,
   "metadata": {
    "id": "w1XPUbMD4Awe"
   },
   "outputs": [],
   "source": [
    "total_rows = 20000 # total number of desired rows\n",
    "\n",
    "reliable_rows = 6000\n",
    "political_rows = 4000\n",
    "satire_rows = 1000\n",
    "\n",
    "#conspiracy_rows = 2000\n",
    "#bias_rows = 1000\n",
    "fake_rows = 10000\n",
    "#junksci_rows = 2000\n",
    "\n",
    "reliable_sample = reliable.sample(reliable_rows)\n",
    "political_sample = political.sample(political_rows)\n",
    "#clickbait_sample = clickbait.sample(clickbait_rows)\n",
    "#satire_sample = satire.sample(satire_rows)\n",
    "#hate_sample = hate.sample(hate_rows)\n",
    "#unreliable_sample = unreliable.sample(unreliable_rows)\n",
    "#conspiracy_sample = conspiracy.sample(conspiracy_rows)\n",
    "#bias_sample = bias.sample(bias_rows)\n",
    "fake_sample = fake.sample(fake_rows)\n",
    "#junksci_sample = junksci.sample(junksci_rows)\n"
   ]
  },
  {
   "cell_type": "code",
   "execution_count": 8,
   "metadata": {
    "colab": {
     "base_uri": "https://localhost:8080/"
    },
    "id": "Qs8BSqCe9djc",
    "outputId": "9b4548b9-7c67-4149-95c5-44063bfa4a3d"
   },
   "outputs": [
    {
     "name": "stdout",
     "output_type": "stream",
     "text": [
      "Counter({'fake': 10000, 'reliable': 6000, 'political': 4000})\n",
      "Counter({'REAL': 10000, 'FAKE': 10000})\n"
     ]
    }
   ],
   "source": [
    "our_data = pd.concat([reliable_sample, political_sample, fake_sample], ignore_index=True)\n",
    "\n",
    "\n",
    "our_data[\"target\"] = our_data['type'].isin(['reliable', 'political'])\n",
    "our_data[\"target\"] = our_data[\"target\"].replace({True: 'REAL', False: \"FAKE\"})\n",
    "print(Counter(our_data['type'].values))\n",
    "print(Counter(our_data['target'].values))"
   ]
  },
  {
   "cell_type": "code",
   "execution_count": 9,
   "metadata": {
    "colab": {
     "base_uri": "https://localhost:8080/",
     "height": 479
    },
    "id": "eHltGUh9BUFz",
    "outputId": "18f1ee7a-b161-4f52-8043-2d067acfd329"
   },
   "outputs": [
    {
     "data": {
      "text/html": [
       "<div>\n",
       "<style scoped>\n",
       "    .dataframe tbody tr th:only-of-type {\n",
       "        vertical-align: middle;\n",
       "    }\n",
       "\n",
       "    .dataframe tbody tr th {\n",
       "        vertical-align: top;\n",
       "    }\n",
       "\n",
       "    .dataframe thead th {\n",
       "        text-align: right;\n",
       "    }\n",
       "</style>\n",
       "<table border=\"1\" class=\"dataframe\">\n",
       "  <thead>\n",
       "    <tr style=\"text-align: right;\">\n",
       "      <th></th>\n",
       "      <th>Unnamed: 0</th>\n",
       "      <th>id</th>\n",
       "      <th>domain</th>\n",
       "      <th>type</th>\n",
       "      <th>url</th>\n",
       "      <th>content</th>\n",
       "      <th>scraped_at</th>\n",
       "      <th>inserted_at</th>\n",
       "      <th>updated_at</th>\n",
       "      <th>title</th>\n",
       "      <th>authors</th>\n",
       "      <th>keywords</th>\n",
       "      <th>meta_keywords</th>\n",
       "      <th>meta_description</th>\n",
       "      <th>tags</th>\n",
       "      <th>summary</th>\n",
       "      <th>source</th>\n",
       "      <th>target</th>\n",
       "    </tr>\n",
       "  </thead>\n",
       "  <tbody>\n",
       "    <tr>\n",
       "      <th>0</th>\n",
       "      <td>4408</td>\n",
       "      <td>929919</td>\n",
       "      <td>christianpost.com</td>\n",
       "      <td>reliable</td>\n",
       "      <td>https://www.christianpost.com/news/pope-franci...</td>\n",
       "      <td>(Photo: Reuters/Jonathan Ernst) Pope Francis (...</td>\n",
       "      <td>2018-01-25 20:13:50.426130</td>\n",
       "      <td>2018-02-02 01:19:41.756632</td>\n",
       "      <td>2018-02-02 01:19:41.756664</td>\n",
       "      <td>Pope Francis 'Reminds Us, People Are Only Free...</td>\n",
       "      <td>NaN</td>\n",
       "      <td>NaN</td>\n",
       "      <td>['']</td>\n",
       "      <td>With over 11,000 ticketed guests gathered on t...</td>\n",
       "      <td>NaN</td>\n",
       "      <td>NaN</td>\n",
       "      <td>NaN</td>\n",
       "      <td>REAL</td>\n",
       "    </tr>\n",
       "    <tr>\n",
       "      <th>1</th>\n",
       "      <td>1615</td>\n",
       "      <td>251403</td>\n",
       "      <td>consortiumnews.com</td>\n",
       "      <td>reliable</td>\n",
       "      <td>https://consortiumnews.com/2015/05/29/is-war-o...</td>\n",
       "      <td>The Sunni resistance to the U.S. invasion of I...</td>\n",
       "      <td>2018-01-25 20:13:50.426130</td>\n",
       "      <td>2018-02-02 01:19:41.756632</td>\n",
       "      <td>2018-02-02 01:19:41.756664</td>\n",
       "      <td>Is War on ISIS America’s Fight?</td>\n",
       "      <td>Joe L., Berry Friesen, Zachary Smith, Mark Tra...</td>\n",
       "      <td>NaN</td>\n",
       "      <td>['']</td>\n",
       "      <td>NaN</td>\n",
       "      <td>Islamic State, Barack Obama, John McCain, Iraq...</td>\n",
       "      <td>NaN</td>\n",
       "      <td>NaN</td>\n",
       "      <td>REAL</td>\n",
       "    </tr>\n",
       "    <tr>\n",
       "      <th>2</th>\n",
       "      <td>3184</td>\n",
       "      <td>928463</td>\n",
       "      <td>christianpost.com</td>\n",
       "      <td>reliable</td>\n",
       "      <td>https://www.christianpost.com/news/keeping-rel...</td>\n",
       "      <td>The views expressed by the author do not neces...</td>\n",
       "      <td>2018-01-25 20:13:50.426130</td>\n",
       "      <td>2018-02-02 01:19:41.756632</td>\n",
       "      <td>2018-02-02 01:19:41.756664</td>\n",
       "      <td>Keeping Religion in the Closet</td>\n",
       "      <td>NaN</td>\n",
       "      <td>NaN</td>\n",
       "      <td>['']</td>\n",
       "      <td>Sarah Palin's pick as John McCain's running ma...</td>\n",
       "      <td>NaN</td>\n",
       "      <td>NaN</td>\n",
       "      <td>NaN</td>\n",
       "      <td>REAL</td>\n",
       "    </tr>\n",
       "    <tr>\n",
       "      <th>3</th>\n",
       "      <td>1870</td>\n",
       "      <td>467859</td>\n",
       "      <td>nutritionfacts.org</td>\n",
       "      <td>reliable</td>\n",
       "      <td>https://nutritionfacts.org/2018/01/25/best-foo...</td>\n",
       "      <td>It is well known that deficiencies in certain ...</td>\n",
       "      <td>2018-01-25 20:13:50.426130</td>\n",
       "      <td>2018-02-02 01:19:41.756632</td>\n",
       "      <td>2018-02-02 01:19:41.756664</td>\n",
       "      <td>Best Food for the Common Cold</td>\n",
       "      <td>Michael Greger M.D. Faclm</td>\n",
       "      <td>NaN</td>\n",
       "      <td>['']</td>\n",
       "      <td>It is well known that deficiencies in certain ...</td>\n",
       "      <td>NaN</td>\n",
       "      <td>NaN</td>\n",
       "      <td>NaN</td>\n",
       "      <td>REAL</td>\n",
       "    </tr>\n",
       "    <tr>\n",
       "      <th>4</th>\n",
       "      <td>1983</td>\n",
       "      <td>989353</td>\n",
       "      <td>christianpost.com</td>\n",
       "      <td>reliable</td>\n",
       "      <td>https://www.christianpost.com/news/is-youtube-...</td>\n",
       "      <td>(Photo: REUTERS/Lucy Nicholson) YouTube unveil...</td>\n",
       "      <td>2018-01-25 20:13:50.426130</td>\n",
       "      <td>2018-02-02 01:19:41.756632</td>\n",
       "      <td>2018-02-02 01:19:41.756664</td>\n",
       "      <td>Is YouTube Targeting Christians and Conservati...</td>\n",
       "      <td>NaN</td>\n",
       "      <td>NaN</td>\n",
       "      <td>['']</td>\n",
       "      <td>Since YouTube enacted a new advertiser-friendl...</td>\n",
       "      <td>NaN</td>\n",
       "      <td>NaN</td>\n",
       "      <td>NaN</td>\n",
       "      <td>REAL</td>\n",
       "    </tr>\n",
       "  </tbody>\n",
       "</table>\n",
       "</div>"
      ],
      "text/plain": [
       "  Unnamed: 0      id              domain      type  \\\n",
       "0       4408  929919   christianpost.com  reliable   \n",
       "1       1615  251403  consortiumnews.com  reliable   \n",
       "2       3184  928463   christianpost.com  reliable   \n",
       "3       1870  467859  nutritionfacts.org  reliable   \n",
       "4       1983  989353   christianpost.com  reliable   \n",
       "\n",
       "                                                 url  \\\n",
       "0  https://www.christianpost.com/news/pope-franci...   \n",
       "1  https://consortiumnews.com/2015/05/29/is-war-o...   \n",
       "2  https://www.christianpost.com/news/keeping-rel...   \n",
       "3  https://nutritionfacts.org/2018/01/25/best-foo...   \n",
       "4  https://www.christianpost.com/news/is-youtube-...   \n",
       "\n",
       "                                             content  \\\n",
       "0  (Photo: Reuters/Jonathan Ernst) Pope Francis (...   \n",
       "1  The Sunni resistance to the U.S. invasion of I...   \n",
       "2  The views expressed by the author do not neces...   \n",
       "3  It is well known that deficiencies in certain ...   \n",
       "4  (Photo: REUTERS/Lucy Nicholson) YouTube unveil...   \n",
       "\n",
       "                   scraped_at                 inserted_at  \\\n",
       "0  2018-01-25 20:13:50.426130  2018-02-02 01:19:41.756632   \n",
       "1  2018-01-25 20:13:50.426130  2018-02-02 01:19:41.756632   \n",
       "2  2018-01-25 20:13:50.426130  2018-02-02 01:19:41.756632   \n",
       "3  2018-01-25 20:13:50.426130  2018-02-02 01:19:41.756632   \n",
       "4  2018-01-25 20:13:50.426130  2018-02-02 01:19:41.756632   \n",
       "\n",
       "                   updated_at  \\\n",
       "0  2018-02-02 01:19:41.756664   \n",
       "1  2018-02-02 01:19:41.756664   \n",
       "2  2018-02-02 01:19:41.756664   \n",
       "3  2018-02-02 01:19:41.756664   \n",
       "4  2018-02-02 01:19:41.756664   \n",
       "\n",
       "                                               title  \\\n",
       "0  Pope Francis 'Reminds Us, People Are Only Free...   \n",
       "1                    Is War on ISIS America’s Fight?   \n",
       "2                     Keeping Religion in the Closet   \n",
       "3                      Best Food for the Common Cold   \n",
       "4  Is YouTube Targeting Christians and Conservati...   \n",
       "\n",
       "                                             authors  keywords meta_keywords  \\\n",
       "0                                                NaN       NaN          ['']   \n",
       "1  Joe L., Berry Friesen, Zachary Smith, Mark Tra...       NaN          ['']   \n",
       "2                                                NaN       NaN          ['']   \n",
       "3                          Michael Greger M.D. Faclm       NaN          ['']   \n",
       "4                                                NaN       NaN          ['']   \n",
       "\n",
       "                                    meta_description  \\\n",
       "0  With over 11,000 ticketed guests gathered on t...   \n",
       "1                                                NaN   \n",
       "2  Sarah Palin's pick as John McCain's running ma...   \n",
       "3  It is well known that deficiencies in certain ...   \n",
       "4  Since YouTube enacted a new advertiser-friendl...   \n",
       "\n",
       "                                                tags  summary  source target  \n",
       "0                                                NaN      NaN     NaN   REAL  \n",
       "1  Islamic State, Barack Obama, John McCain, Iraq...      NaN     NaN   REAL  \n",
       "2                                                NaN      NaN     NaN   REAL  \n",
       "3                                                NaN      NaN     NaN   REAL  \n",
       "4                                                NaN      NaN     NaN   REAL  "
      ]
     },
     "execution_count": 9,
     "metadata": {},
     "output_type": "execute_result"
    }
   ],
   "source": [
    "our_data.head()"
   ]
  },
  {
   "cell_type": "code",
   "execution_count": 10,
   "metadata": {
    "id": "oSWNjiWL_8Zn"
   },
   "outputs": [],
   "source": [
    "our_data.to_csv(my_dir + \"our_data_baseline.csv\", index = False)"
   ]
  },
  {
   "cell_type": "code",
   "execution_count": 11,
   "metadata": {},
   "outputs": [
    {
     "name": "stdout",
     "output_type": "stream",
     "text": [
      "20000\n"
     ]
    }
   ],
   "source": [
    "print(len(our_data))"
   ]
  },
  {
   "cell_type": "code",
   "execution_count": null,
   "metadata": {},
   "outputs": [],
   "source": []
  }
 ],
 "metadata": {
  "colab": {
   "collapsed_sections": [],
   "name": "Prepare our dataset.ipynb",
   "provenance": []
  },
  "kernelspec": {
   "display_name": "Python 3",
   "language": "python",
   "name": "python3"
  },
  "language_info": {
   "codemirror_mode": {
    "name": "ipython",
    "version": 3
   },
   "file_extension": ".py",
   "mimetype": "text/x-python",
   "name": "python",
   "nbconvert_exporter": "python",
   "pygments_lexer": "ipython3",
   "version": "3.8.5"
  },
  "metadata": {
   "interpreter": {
    "hash": "7812ea015bdcee6f23a998adcdd2ef97c151c0c241b7b7070987d9313e41299d"
   }
  }
 },
 "nbformat": 4,
 "nbformat_minor": 1
}
