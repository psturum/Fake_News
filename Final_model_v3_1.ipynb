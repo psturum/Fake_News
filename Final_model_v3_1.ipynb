{
 "cells": [
  {
   "cell_type": "markdown",
   "metadata": {
    "id": "b_SJr9-r31qU"
   },
   "source": [
    "# Load data and packages\n",
    "\n"
   ]
  },
  {
   "cell_type": "code",
   "execution_count": 1,
   "metadata": {
    "id": "vVkFBx26ePPS"
   },
   "outputs": [
    {
     "name": "stdout",
     "output_type": "stream",
     "text": [
      "Requirement already satisfied: transformers in c:\\users\\antoi\\anaconda3\\lib\\site-packages (4.6.1)\n",
      "Requirement already satisfied: regex!=2019.12.17 in c:\\users\\antoi\\anaconda3\\lib\\site-packages (from transformers) (2020.10.15)\n",
      "Requirement already satisfied: sacremoses in c:\\users\\antoi\\anaconda3\\lib\\site-packages (from transformers) (0.0.45)\n",
      "Requirement already satisfied: filelock in c:\\users\\antoi\\anaconda3\\lib\\site-packages (from transformers) (3.0.12)\n",
      "Requirement already satisfied: huggingface-hub==0.0.8 in c:\\users\\antoi\\anaconda3\\lib\\site-packages (from transformers) (0.0.8)\n",
      "Requirement already satisfied: tokenizers<0.11,>=0.10.1 in c:\\users\\antoi\\anaconda3\\lib\\site-packages (from transformers) (0.10.3)\n",
      "Requirement already satisfied: tqdm>=4.27 in c:\\users\\antoi\\anaconda3\\lib\\site-packages (from transformers) (4.50.2)\n",
      "Requirement already satisfied: requests in c:\\users\\antoi\\anaconda3\\lib\\site-packages (from transformers) (2.24.0)\n",
      "Requirement already satisfied: packaging in c:\\users\\antoi\\anaconda3\\lib\\site-packages (from transformers) (20.4)\n",
      "Requirement already satisfied: numpy>=1.17 in c:\\users\\antoi\\anaconda3\\lib\\site-packages (from transformers) (1.19.2)\n",
      "Requirement already satisfied: six in c:\\users\\antoi\\anaconda3\\lib\\site-packages (from sacremoses->transformers) (1.15.0)\n",
      "Requirement already satisfied: click in c:\\users\\antoi\\anaconda3\\lib\\site-packages (from sacremoses->transformers) (7.1.2)\n",
      "Requirement already satisfied: joblib in c:\\users\\antoi\\anaconda3\\lib\\site-packages (from sacremoses->transformers) (0.17.0)\n",
      "Requirement already satisfied: urllib3!=1.25.0,!=1.25.1,<1.26,>=1.21.1 in c:\\users\\antoi\\anaconda3\\lib\\site-packages (from requests->transformers) (1.25.11)\n",
      "Requirement already satisfied: idna<3,>=2.5 in c:\\users\\antoi\\anaconda3\\lib\\site-packages (from requests->transformers) (2.10)\n",
      "Requirement already satisfied: certifi>=2017.4.17 in c:\\users\\antoi\\anaconda3\\lib\\site-packages (from requests->transformers) (2020.6.20)\n",
      "Requirement already satisfied: chardet<4,>=3.0.2 in c:\\users\\antoi\\anaconda3\\lib\\site-packages (from requests->transformers) (3.0.4)\n",
      "Requirement already satisfied: pyparsing>=2.0.2 in c:\\users\\antoi\\anaconda3\\lib\\site-packages (from packaging->transformers) (2.4.7)\n"
     ]
    }
   ],
   "source": [
    "!pip install transformers"
   ]
  },
  {
   "cell_type": "code",
   "execution_count": 2,
   "metadata": {
    "id": "l3u2z07IJ1wg"
   },
   "outputs": [],
   "source": [
    "import pandas as pd\n",
    "import numpy as np\n",
    "import transformers as ppb"
   ]
  },
  {
   "cell_type": "code",
   "execution_count": 3,
   "metadata": {
    "id": "y5JBkUYPFoAa"
   },
   "outputs": [],
   "source": [
    "#from google.colab import drive\n",
    "\n",
    "#drive.mount(\"/content/gdrive\")"
   ]
  },
  {
   "cell_type": "code",
   "execution_count": 4,
   "metadata": {
    "id": "82t5aY_XJKb2"
   },
   "outputs": [],
   "source": [
    "my_dir = \"C:/Users/antoi/Downloads/\"\n",
    "\n",
    "raw_data = pd.read_csv(my_dir + \"our_data_4.csv\") # now 20000 rows"
   ]
  },
  {
   "cell_type": "code",
   "execution_count": 5,
   "metadata": {
    "id": "0C8_LulpJis5"
   },
   "outputs": [
    {
     "name": "stdout",
     "output_type": "stream",
     "text": [
      "Counter({'reliable': 5000, 'fake': 5000, 'political': 4000, 'conspiracy': 2000, 'junksci': 2000, 'satire': 1000, 'bias': 1000})\n",
      "Counter({'REAL': 10000, 'FAKE': 10000})\n"
     ]
    }
   ],
   "source": [
    "from collections import Counter\n",
    "print(Counter(raw_data['type'].values))\n",
    "print(Counter(raw_data['target'].values))"
   ]
  },
  {
   "cell_type": "code",
   "execution_count": 6,
   "metadata": {
    "id": "ZtahmHLqfZ5v"
   },
   "outputs": [],
   "source": [
    "# take only content, drop other variables\n",
    "content_data = raw_data[[\"id\",\"type\",\"content\",\"target\"]].copy()\n",
    "content_data[\"id\"] = content_data[\"id\"].astype(int) # check article id to be integer"
   ]
  },
  {
   "cell_type": "code",
   "execution_count": 7,
   "metadata": {
    "id": "kPf7CTOXhzf-"
   },
   "outputs": [
    {
     "data": {
      "text/html": [
       "<div>\n",
       "<style scoped>\n",
       "    .dataframe tbody tr th:only-of-type {\n",
       "        vertical-align: middle;\n",
       "    }\n",
       "\n",
       "    .dataframe tbody tr th {\n",
       "        vertical-align: top;\n",
       "    }\n",
       "\n",
       "    .dataframe thead th {\n",
       "        text-align: right;\n",
       "    }\n",
       "</style>\n",
       "<table border=\"1\" class=\"dataframe\">\n",
       "  <thead>\n",
       "    <tr style=\"text-align: right;\">\n",
       "      <th></th>\n",
       "      <th>id</th>\n",
       "      <th>type</th>\n",
       "      <th>content</th>\n",
       "      <th>target</th>\n",
       "    </tr>\n",
       "  </thead>\n",
       "  <tbody>\n",
       "    <tr>\n",
       "      <th>0</th>\n",
       "      <td>342901</td>\n",
       "      <td>conspiracy</td>\n",
       "      <td>edit on 12/6/14 by JiggyPotamus because: (no r...</td>\n",
       "      <td>FAKE</td>\n",
       "    </tr>\n",
       "    <tr>\n",
       "      <th>1</th>\n",
       "      <td>483414</td>\n",
       "      <td>reliable</td>\n",
       "      <td>In heaven, people will have a similar body, vo...</td>\n",
       "      <td>REAL</td>\n",
       "    </tr>\n",
       "    <tr>\n",
       "      <th>2</th>\n",
       "      <td>344499</td>\n",
       "      <td>political</td>\n",
       "      <td>The East Wing's steady decline in promoting hi...</td>\n",
       "      <td>REAL</td>\n",
       "    </tr>\n",
       "    <tr>\n",
       "      <th>3</th>\n",
       "      <td>929267</td>\n",
       "      <td>reliable</td>\n",
       "      <td>(Photo: REUTERS/Dominick Reuter) Boston police...</td>\n",
       "      <td>REAL</td>\n",
       "    </tr>\n",
       "    <tr>\n",
       "      <th>4</th>\n",
       "      <td>37356</td>\n",
       "      <td>fake</td>\n",
       "      <td>University Sued For Limiting Free Speech To Lu...</td>\n",
       "      <td>FAKE</td>\n",
       "    </tr>\n",
       "  </tbody>\n",
       "</table>\n",
       "</div>"
      ],
      "text/plain": [
       "       id        type                                            content  \\\n",
       "0  342901  conspiracy  edit on 12/6/14 by JiggyPotamus because: (no r...   \n",
       "1  483414    reliable  In heaven, people will have a similar body, vo...   \n",
       "2  344499   political  The East Wing's steady decline in promoting hi...   \n",
       "3  929267    reliable  (Photo: REUTERS/Dominick Reuter) Boston police...   \n",
       "4   37356        fake  University Sued For Limiting Free Speech To Lu...   \n",
       "\n",
       "  target  \n",
       "0   FAKE  \n",
       "1   REAL  \n",
       "2   REAL  \n",
       "3   REAL  \n",
       "4   FAKE  "
      ]
     },
     "execution_count": 7,
     "metadata": {},
     "output_type": "execute_result"
    }
   ],
   "source": [
    "# now just shuffle rows (not necessary)\n",
    "data = content_data.sample(frac=1, random_state = 42).reset_index(drop=True)\n",
    "data.head()"
   ]
  },
  {
   "cell_type": "markdown",
   "metadata": {
    "id": "WkzyL7-HjZqT"
   },
   "source": [
    "# Prepare data"
   ]
  },
  {
   "cell_type": "markdown",
   "metadata": {
    "id": "1nnrVjg_bW6d"
   },
   "source": [
    "## Use DistilBERT"
   ]
  },
  {
   "cell_type": "code",
   "execution_count": 8,
   "metadata": {
    "id": "ZHAbScO44xPr"
   },
   "outputs": [],
   "source": [
    "def embeddings_distilbert(content_data, batch_size):\n",
    "  import transformers as ppb # pytorch transformers\n",
    "  import torch\n",
    "\n",
    "  # Create tokenizer and model input\n",
    "  dbert_tokenizer = ppb.DistilBertTokenizer.from_pretrained('distilbert-base-uncased')\n",
    "  dbert_model = ppb.DistilBertModel.from_pretrained('distilbert-base-uncased')\n",
    "  dbert_model.eval()\n",
    "\n",
    "  # Tokenize input\n",
    "  tokenized = content_data.apply((lambda x: dbert_tokenizer.encode(x, add_special_tokens=True)))\n",
    "  print(\"Tokenization DONE\")\n",
    "  # Pad input so that all sequences are of the same size:\n",
    "  max_len = 0\n",
    "  for i in tokenized.values:\n",
    "    if len(i) > max_len:\n",
    "        max_len = len(i)\n",
    "  padded = np.array([i + [0]*(max_len-len(i)) for i in tokenized.values])\n",
    "\n",
    "  # Actually, we can only deal with sequence lengths up to 512 with the DistilBert model, so we'll just truncate \n",
    "  padded = padded[:,:512]\n",
    "\n",
    "  # Tell embedding model to disregard pad tokens\n",
    "  attention_mask = np.where(padded != 0, 1, 0)\n",
    "  print(\"Padding DONE\")\n",
    "\n",
    "  device = torch.device(\"cpu\")\n",
    "  if torch.cuda.is_available():\n",
    "    model = dbert_model.cuda()\n",
    "    device = torch.device(\"cuda\")\n",
    "\n",
    "  # Convert input to a pytorch tensor (so that it can be used as input for the embedding model)\n",
    "  input = torch.tensor(np.array(padded), device=device)\n",
    "  attention_mask = torch.tensor(attention_mask, device=device)\n",
    "\n",
    "  # Embed sequences (processing in batches to avoid memory problems)\n",
    "  #batch_size= 1\n",
    "  embeddings = []\n",
    "  for start_index in range(0, input.shape[0], batch_size):\n",
    "    with torch.no_grad():\n",
    "      # Call embedding model\n",
    "      torch.cuda.empty_cache()\n",
    "      embedding = dbert_model(input[start_index:start_index+batch_size], \n",
    "                      attention_mask=attention_mask[start_index:start_index+batch_size])[0][:,0,:]\n",
    "      if start_index % 1000 == 0:\n",
    "        print(start_index)\n",
    "      embeddings.append(embedding.cpu().numpy())\n",
    "    del embedding\n",
    "  print(\"Embeddings DONE\")\n",
    "\n",
    "  # embeddings to numpy\n",
    "  embeddings = np.array(embeddings)[:,0,:]\n",
    "  #print(embeddings.shape) # print shape\n",
    "\n",
    "  return embeddings"
   ]
  },
  {
   "cell_type": "code",
   "execution_count": 9,
   "metadata": {
    "id": "K0d-HxXjaoop"
   },
   "outputs": [
    {
     "name": "stdout",
     "output_type": "stream",
     "text": [
      "(20000, 772)\n"
     ]
    },
    {
     "data": {
      "text/html": [
       "<div>\n",
       "<style scoped>\n",
       "    .dataframe tbody tr th:only-of-type {\n",
       "        vertical-align: middle;\n",
       "    }\n",
       "\n",
       "    .dataframe tbody tr th {\n",
       "        vertical-align: top;\n",
       "    }\n",
       "\n",
       "    .dataframe thead th {\n",
       "        text-align: right;\n",
       "    }\n",
       "</style>\n",
       "<table border=\"1\" class=\"dataframe\">\n",
       "  <thead>\n",
       "    <tr style=\"text-align: right;\">\n",
       "      <th></th>\n",
       "      <th>id</th>\n",
       "      <th>type</th>\n",
       "      <th>content</th>\n",
       "      <th>target</th>\n",
       "      <th>0</th>\n",
       "      <th>1</th>\n",
       "      <th>2</th>\n",
       "      <th>3</th>\n",
       "      <th>4</th>\n",
       "      <th>5</th>\n",
       "      <th>...</th>\n",
       "      <th>758</th>\n",
       "      <th>759</th>\n",
       "      <th>760</th>\n",
       "      <th>761</th>\n",
       "      <th>762</th>\n",
       "      <th>763</th>\n",
       "      <th>764</th>\n",
       "      <th>765</th>\n",
       "      <th>766</th>\n",
       "      <th>767</th>\n",
       "    </tr>\n",
       "  </thead>\n",
       "  <tbody>\n",
       "    <tr>\n",
       "      <th>0</th>\n",
       "      <td>332176</td>\n",
       "      <td>conspiracy</td>\n",
       "      <td>edit on 4/18/17 by dragonridr because: (no rea...</td>\n",
       "      <td>FAKE</td>\n",
       "      <td>0.106311</td>\n",
       "      <td>0.088579</td>\n",
       "      <td>-0.097302</td>\n",
       "      <td>-0.322698</td>\n",
       "      <td>-0.362303</td>\n",
       "      <td>-0.214526</td>\n",
       "      <td>...</td>\n",
       "      <td>0.072385</td>\n",
       "      <td>-0.258892</td>\n",
       "      <td>-0.097093</td>\n",
       "      <td>-0.258708</td>\n",
       "      <td>0.272754</td>\n",
       "      <td>0.257194</td>\n",
       "      <td>-0.241443</td>\n",
       "      <td>-0.014499</td>\n",
       "      <td>0.543402</td>\n",
       "      <td>0.315260</td>\n",
       "    </tr>\n",
       "    <tr>\n",
       "      <th>1</th>\n",
       "      <td>552006</td>\n",
       "      <td>reliable</td>\n",
       "      <td>(Photo: Reuters/Fabrizio Bensch) Migrants who ...</td>\n",
       "      <td>REAL</td>\n",
       "      <td>-0.212137</td>\n",
       "      <td>0.055748</td>\n",
       "      <td>0.530093</td>\n",
       "      <td>-0.020321</td>\n",
       "      <td>0.031991</td>\n",
       "      <td>0.037772</td>\n",
       "      <td>...</td>\n",
       "      <td>0.288124</td>\n",
       "      <td>-0.087424</td>\n",
       "      <td>0.079782</td>\n",
       "      <td>-0.312908</td>\n",
       "      <td>-0.020711</td>\n",
       "      <td>-0.293428</td>\n",
       "      <td>-0.223143</td>\n",
       "      <td>-0.277556</td>\n",
       "      <td>0.222861</td>\n",
       "      <td>0.224410</td>\n",
       "    </tr>\n",
       "    <tr>\n",
       "      <th>2</th>\n",
       "      <td>996934</td>\n",
       "      <td>satire</td>\n",
       "      <td>SAN FRANCISCO - USA - Niles Baccarat, 45, purc...</td>\n",
       "      <td>REAL</td>\n",
       "      <td>-0.095490</td>\n",
       "      <td>-0.174996</td>\n",
       "      <td>-0.085154</td>\n",
       "      <td>-0.006669</td>\n",
       "      <td>0.154215</td>\n",
       "      <td>-0.059694</td>\n",
       "      <td>...</td>\n",
       "      <td>-0.029326</td>\n",
       "      <td>-0.069607</td>\n",
       "      <td>-0.116903</td>\n",
       "      <td>-0.329485</td>\n",
       "      <td>0.007457</td>\n",
       "      <td>0.113285</td>\n",
       "      <td>-0.233248</td>\n",
       "      <td>-0.235345</td>\n",
       "      <td>0.535735</td>\n",
       "      <td>0.401071</td>\n",
       "    </tr>\n",
       "    <tr>\n",
       "      <th>3</th>\n",
       "      <td>989096</td>\n",
       "      <td>reliable</td>\n",
       "      <td>(Photo: Access Hollywood Live video screen gra...</td>\n",
       "      <td>REAL</td>\n",
       "      <td>0.018963</td>\n",
       "      <td>-0.113733</td>\n",
       "      <td>-0.010551</td>\n",
       "      <td>-0.012989</td>\n",
       "      <td>0.022653</td>\n",
       "      <td>-0.135272</td>\n",
       "      <td>...</td>\n",
       "      <td>0.039579</td>\n",
       "      <td>-0.252206</td>\n",
       "      <td>-0.047384</td>\n",
       "      <td>-0.434419</td>\n",
       "      <td>-0.102059</td>\n",
       "      <td>0.218546</td>\n",
       "      <td>0.035455</td>\n",
       "      <td>-0.001591</td>\n",
       "      <td>0.412287</td>\n",
       "      <td>0.018747</td>\n",
       "    </tr>\n",
       "    <tr>\n",
       "      <th>4</th>\n",
       "      <td>1098570</td>\n",
       "      <td>bias</td>\n",
       "      <td>A Collection of Interesting, Important, and Co...</td>\n",
       "      <td>FAKE</td>\n",
       "      <td>-0.290180</td>\n",
       "      <td>-0.110230</td>\n",
       "      <td>-0.486127</td>\n",
       "      <td>-0.137644</td>\n",
       "      <td>-0.176239</td>\n",
       "      <td>-0.078951</td>\n",
       "      <td>...</td>\n",
       "      <td>0.056023</td>\n",
       "      <td>-0.014438</td>\n",
       "      <td>-0.099170</td>\n",
       "      <td>-0.302892</td>\n",
       "      <td>0.012635</td>\n",
       "      <td>-0.234282</td>\n",
       "      <td>0.142875</td>\n",
       "      <td>-0.149025</td>\n",
       "      <td>0.394698</td>\n",
       "      <td>0.260328</td>\n",
       "    </tr>\n",
       "  </tbody>\n",
       "</table>\n",
       "<p>5 rows × 772 columns</p>\n",
       "</div>"
      ],
      "text/plain": [
       "        id        type                                            content  \\\n",
       "0   332176  conspiracy  edit on 4/18/17 by dragonridr because: (no rea...   \n",
       "1   552006    reliable  (Photo: Reuters/Fabrizio Bensch) Migrants who ...   \n",
       "2   996934      satire  SAN FRANCISCO - USA - Niles Baccarat, 45, purc...   \n",
       "3   989096    reliable  (Photo: Access Hollywood Live video screen gra...   \n",
       "4  1098570        bias  A Collection of Interesting, Important, and Co...   \n",
       "\n",
       "  target         0         1         2         3         4         5  ...  \\\n",
       "0   FAKE  0.106311  0.088579 -0.097302 -0.322698 -0.362303 -0.214526  ...   \n",
       "1   REAL -0.212137  0.055748  0.530093 -0.020321  0.031991  0.037772  ...   \n",
       "2   REAL -0.095490 -0.174996 -0.085154 -0.006669  0.154215 -0.059694  ...   \n",
       "3   REAL  0.018963 -0.113733 -0.010551 -0.012989  0.022653 -0.135272  ...   \n",
       "4   FAKE -0.290180 -0.110230 -0.486127 -0.137644 -0.176239 -0.078951  ...   \n",
       "\n",
       "        758       759       760       761       762       763       764  \\\n",
       "0  0.072385 -0.258892 -0.097093 -0.258708  0.272754  0.257194 -0.241443   \n",
       "1  0.288124 -0.087424  0.079782 -0.312908 -0.020711 -0.293428 -0.223143   \n",
       "2 -0.029326 -0.069607 -0.116903 -0.329485  0.007457  0.113285 -0.233248   \n",
       "3  0.039579 -0.252206 -0.047384 -0.434419 -0.102059  0.218546  0.035455   \n",
       "4  0.056023 -0.014438 -0.099170 -0.302892  0.012635 -0.234282  0.142875   \n",
       "\n",
       "        765       766       767  \n",
       "0 -0.014499  0.543402  0.315260  \n",
       "1 -0.277556  0.222861  0.224410  \n",
       "2 -0.235345  0.535735  0.401071  \n",
       "3 -0.001591  0.412287  0.018747  \n",
       "4 -0.149025  0.394698  0.260328  \n",
       "\n",
       "[5 rows x 772 columns]"
      ]
     },
     "execution_count": 9,
     "metadata": {},
     "output_type": "execute_result"
    }
   ],
   "source": [
    "# Here get a data from DistilBERT - either calculate them and save or load them\n",
    "load_mode = True # True = only load, False = recalculate\n",
    "\n",
    "if load_mode:\n",
    "  data_after_bert = pd.read_csv(my_dir + \"data_after_bert_1.csv\")\n",
    "else:\n",
    "  data_x = embeddings_distilbert(data[\"content\"],1)\n",
    "  data_after_bert = pd.concat([data, pd.DataFrame(data_x)], axis=1)\n",
    "  data_after_bert.to_csv(my_dir + \"data_after_bert.csv\", index = False)\n",
    "\n",
    "print(data_after_bert.shape)\n",
    "data_after_bert.head()"
   ]
  },
  {
   "cell_type": "markdown",
   "metadata": {
    "id": "yoXijmrwbupj"
   },
   "source": [
    "## Add features"
   ]
  },
  {
   "cell_type": "code",
   "execution_count": 10,
   "metadata": {
    "id": "nYs1QDK2aiHx"
   },
   "outputs": [],
   "source": [
    "# Feature functions\n",
    "import re\n",
    "\n",
    "def swearword_binary(string):\n",
    "    swearwords =[ 'fuck ',' ass ',' asshole ',' bitch ',' fucking ','whore ','piss ','pussy ','shit ','dick ']\n",
    "    temp = 0\n",
    "    \n",
    "    for word in swearwords :\n",
    "        \n",
    "          temp = temp + word_count(string, word) \n",
    "          \n",
    "    if temp > 0:\n",
    "        return 1\n",
    "    else:\n",
    "        return 0\n",
    "\n",
    "def regex_check(article, error):\n",
    "    result = 0\n",
    "\n",
    "    error1_count = 0\n",
    "    err_1 = re.findall(error, article)\n",
    "\n",
    "    if len(err_1) != 0:\n",
    "        error1_count += (len(err_1))\n",
    "    \n",
    "    result += error1_count\n",
    "    return result\n",
    "\n",
    "def voca_size_(article):\n",
    "    res = []\n",
    "    article = article.lower()\n",
    "\n",
    "    word_list = article.split()\n",
    "\n",
    "    for word in word_list:\n",
    "        if word not in res:\n",
    "            res += [word]\n",
    "    \n",
    "    return len(res)\n",
    "\n",
    "def sentence_avg(text):\n",
    "    nr_sentence = 1\n",
    "    for c in text:\n",
    "        if c == '.':\n",
    "            nr_sentence += 1\n",
    "\n",
    "    res = len(text)/nr_sentence\n",
    "    return res\n",
    "\n",
    "def word_count(article, word):\n",
    "  \n",
    "     a = article.upper()\n",
    "  \n",
    "     a = re.sub(r\"[^A-Z]\", \"  \", a)\n",
    "  \n",
    "     a = \" \" + a + \" \"\n",
    "  \n",
    "     w = \" \" + word.upper() + \" \"\n",
    "  \n",
    "     return a.count(w)\n",
    "\n",
    "def symbol_binary(string, symbol):\n",
    "    if string.count(symbol) >0:\n",
    "        return 1\n",
    "    else:\n",
    "        return 0"
   ]
  },
  {
   "cell_type": "code",
   "execution_count": 11,
   "metadata": {
    "id": "0XML9cwSah-g"
   },
   "outputs": [],
   "source": [
    "# Function to add all features\n",
    "\n",
    "def add_features(dataframe, content_name):\n",
    "\n",
    "    output_dataframe = dataframe.copy()\n",
    "\n",
    "    output_dataframe[\"exclamation_mark_count\"] = output_dataframe[content_name].map(lambda article: regex_check(article, '\\!'))\n",
    "    output_dataframe[\"exclamation_mark_binary\"] = output_dataframe[content_name].map(lambda article: symbol_binary(article, '!'))\n",
    "    output_dataframe[\"question_mark_count\"] = output_dataframe[content_name].map(lambda article: regex_check(article, '\\?'))\n",
    "    output_dataframe[\"question_mark_binary\"] = output_dataframe[content_name].map(lambda article: symbol_binary(article, '?'))\n",
    "    output_dataframe[\"missing_whitespace_count\"] = output_dataframe[content_name].map(lambda article: regex_check(article, '\\.\\w'))\n",
    "    output_dataframe[\"vocabulary_size\"] = output_dataframe[content_name].map(lambda article: voca_size_(article))\n",
    "    output_dataframe[\"average_sentence_count\"] = output_dataframe[content_name].map(lambda article: sentence_avg(article))\n",
    "    output_dataframe[\"swearword_binary\"] = output_dataframe[content_name].map(lambda article: swearword_binary(article))\n",
    "    output_dataframe[\"free_count\"] = output_dataframe[content_name].map(lambda article: word_count(article,\"free\"))\n",
    "    output_dataframe[\"trump_count\"] = output_dataframe[content_name].map(lambda article: word_count(article,\"trump\"))\n",
    "    output_dataframe[\"dollar_count\"] = output_dataframe[content_name].map(lambda article: word_count(article,\"dollar\"))\n",
    "\n",
    "    return output_dataframe"
   ]
  },
  {
   "cell_type": "code",
   "execution_count": 12,
   "metadata": {
    "id": "O-uIhnVgah07"
   },
   "outputs": [
    {
     "data": {
      "text/plain": [
       "(20000, 783)"
      ]
     },
     "execution_count": 12,
     "metadata": {},
     "output_type": "execute_result"
    }
   ],
   "source": [
    "modelling_data = add_features(data_after_bert, \"content\")\n",
    "modelling_data.shape"
   ]
  },
  {
   "cell_type": "markdown",
   "metadata": {
    "id": "aQsj5pzQhcMD"
   },
   "source": [
    "# Modelling"
   ]
  },
  {
   "cell_type": "markdown",
   "metadata": {
    "id": "JagZf4jBjM67"
   },
   "source": [
    "## Split data to train, validation and test"
   ]
  },
  {
   "cell_type": "code",
   "execution_count": 13,
   "metadata": {
    "id": "Q5IIYqH5jVo4"
   },
   "outputs": [],
   "source": [
    "# Define X and y\n",
    "X = modelling_data.iloc[:,4:]\n",
    "y = modelling_data[\"target\"]"
   ]
  },
  {
   "cell_type": "code",
   "execution_count": 14,
   "metadata": {
    "id": "ogo4euvNjQR9"
   },
   "outputs": [
    {
     "data": {
      "text/plain": [
       "((14000, 779), (3000, 779), (3000, 779))"
      ]
     },
     "execution_count": 14,
     "metadata": {},
     "output_type": "execute_result"
    }
   ],
   "source": [
    "# Split train and test data\n",
    "from sklearn.model_selection import train_test_split\n",
    "\n",
    "indices = np.arange(y.shape[0]) # create indices of the split (usage like data.iloc[idx_val_test])\n",
    "\n",
    "# split train and (validation+test)\n",
    "X_train, X_val_test, y_train, y_val_test, idx_train, idx_val_test = train_test_split(X, y, indices, test_size = 0.30, random_state = 42, stratify = y)\n",
    "\n",
    "# split validation and test\n",
    "X_val, X_test, y_val, y_test, idx_val, idx_test = train_test_split(X_val_test, y_val_test, idx_val_test, \n",
    "                                                                                     test_size = 0.50, random_state = 42, stratify = y_val_test)\n",
    "\n",
    "X_train.shape, X_val.shape, X_test.shape"
   ]
  },
  {
   "cell_type": "markdown",
   "metadata": {
    "id": "f8uXn9wtjILr"
   },
   "source": [
    "## Random forest\n",
    "\n",
    "our first, initial model"
   ]
  },
  {
   "cell_type": "code",
   "execution_count": 15,
   "metadata": {
    "id": "BH8LyhNve67f"
   },
   "outputs": [
    {
     "data": {
      "text/plain": [
       "RandomForestClassifier(max_depth=2, random_state=0)"
      ]
     },
     "execution_count": 15,
     "metadata": {},
     "output_type": "execute_result"
    }
   ],
   "source": [
    "from sklearn.ensemble import RandomForestClassifier\n",
    "\n",
    "forest = RandomForestClassifier(max_depth=2, random_state=0)\n",
    "forest.fit(X_train, y_train)"
   ]
  },
  {
   "cell_type": "code",
   "execution_count": 16,
   "metadata": {
    "id": "sYyu8jTBjpC3"
   },
   "outputs": [
    {
     "data": {
      "image/png": "[encoded data removed]",
      "text/plain": [
       "<Figure size 432x288 with 2 Axes>"
      ]
     },
     "metadata": {
      "needs_background": "light"
     },
     "output_type": "display_data"
    }
   ],
   "source": [
    "import matplotlib.pyplot as plt  \n",
    "from sklearn.metrics import plot_confusion_matrix\n",
    "\n",
    "plot_confusion_matrix(forest, X_test, y_test, values_format='.5g')  \n",
    "plt.show()"
   ]
  },
  {
   "cell_type": "code",
   "execution_count": 17,
   "metadata": {
    "id": "15Wm8h6ojo-l"
   },
   "outputs": [
    {
     "data": {
      "text/plain": [
       "0.752"
      ]
     },
     "execution_count": 17,
     "metadata": {},
     "output_type": "execute_result"
    }
   ],
   "source": [
    "from sklearn.metrics import accuracy_score\n",
    "accuracy_score(y_test, forest.predict(X_test))"
   ]
  },
  {
   "cell_type": "markdown",
   "metadata": {
    "id": "aZdkwX-SqTwU"
   },
   "source": [
    "## Neural networks\n",
    "\n",
    "so far only full connected NNs tried"
   ]
  },
  {
   "cell_type": "code",
   "execution_count": 18,
   "metadata": {
    "id": "2Hi96yIH2j9P"
   },
   "outputs": [],
   "source": [
    "import torch\n",
    "import torch.nn as nn\n",
    "import torch.nn.functional as F\n",
    "from tqdm.auto import tqdm\n",
    "import torch.optim as optim"
   ]
  },
  {
   "cell_type": "code",
   "execution_count": 19,
   "metadata": {
    "id": "TS_42nxlw_0i"
   },
   "outputs": [
    {
     "name": "stdout",
     "output_type": "stream",
     "text": [
      "cuda\n"
     ]
    }
   ],
   "source": [
    "device = torch.device(\"cpu\")\n",
    "if torch.cuda.is_available():\n",
    "  device = torch.device(\"cuda\")\n",
    "\n",
    "print(device)"
   ]
  },
  {
   "cell_type": "markdown",
   "metadata": {
    "id": "XmcckSqdqcNV"
   },
   "source": [
    "### Prepare data for neural networks"
   ]
  },
  {
   "cell_type": "code",
   "execution_count": 20,
   "metadata": {
    "id": "P3OauEW22tZQ"
   },
   "outputs": [
    {
     "name": "stdout",
     "output_type": "stream",
     "text": [
      "True\n"
     ]
    }
   ],
   "source": [
    "# define functions\n",
    "def y_to_numeric(y):\n",
    "  return y.replace({\"REAL\": 0, \"FAKE\": 1})\n",
    "\n",
    "def y_to_labels(y):\n",
    "  return np.where(y==1,\"FAKE\",\"REAL\")\n",
    "\n",
    "# now transform\n",
    "y_train = y_to_numeric(y_train)\n",
    "y_val = y_to_numeric(y_val)\n",
    "y_test = y_to_numeric(y_test)\n",
    "y_is_numeric = True\n",
    "print(y_is_numeric)"
   ]
  },
  {
   "cell_type": "markdown",
   "metadata": {
    "id": "pZY1Kd8hxRHG"
   },
   "source": [
    "### Train and predict functions"
   ]
  },
  {
   "cell_type": "code",
   "execution_count": 21,
   "metadata": {
    "id": "-qw5eSpV5v_C"
   },
   "outputs": [],
   "source": [
    "def fit(X_train, y_train, X_val, y_val, model, optimizer, batch_size=32, epochs=5, loss_fn=F.mse_loss):   \n",
    "    model.train()\n",
    "    model.zero_grad()\n",
    "    optimizer.zero_grad()\n",
    "    n_iterations = len(X_train) // batch_size\n",
    "\n",
    "    X_train = torch.tensor(X_train.to_numpy()).float()\n",
    "    y_train = torch.tensor(y_train.to_numpy()).float()\n",
    "    y_train = y_train.view(-1,1)\n",
    "\n",
    "    X_val = torch.tensor(X_val.to_numpy()).float()\n",
    "    y_val = torch.tensor(y_val.to_numpy()).float()\n",
    "    y_val = y_val.view(-1,1)\n",
    "    \n",
    "    pbar = tqdm(total=n_iterations)\n",
    "    loss_train_list = []\n",
    "    loss_val_list = []\n",
    "    for epoch in range(epochs):\n",
    "        # shuffle iterator        \n",
    "        idx = torch.randperm(len(X_train))\n",
    "        epoch_loss = 0\n",
    "        for i in range(n_iterations):\n",
    "            optimizer.zero_grad()\n",
    "            batch_idx = idx[i * batch_size: (i + 1) * batch_size]\n",
    "            X_batch = X_train[batch_idx].to(device)\n",
    "            y_batch = y_train[batch_idx].to(device)\n",
    "\n",
    "            y_pred = model(X_batch)\n",
    "\n",
    "            loss = loss_fn(y_pred, y_batch)\n",
    "            loss.backward()\n",
    "            \n",
    "            epoch_loss += loss.item()\n",
    "            \n",
    "            optimizer.step()\n",
    "            \n",
    "            # logging\n",
    "            if i % 10 == 0:\n",
    "                pbar.set_description_str(f\"Epoch {epoch + 1}/{epochs}\")\n",
    "                pbar.set_postfix_str(f\"loss: {loss.item():.4f}\")\n",
    "                pbar.update(10)\n",
    "\n",
    "        epoch_loss = epoch_loss/n_iterations\n",
    "        loss_train_list.append(epoch_loss)\n",
    "\n",
    "        # get loss for validation data\n",
    "        X_val = X_val.to(device)\n",
    "        y_val = y_val.to(device)\n",
    "        y_pred_val = model(X_val)\n",
    "\n",
    "        loss_val = loss_fn(y_pred_val, y_val)\n",
    "        loss_val_list.append(loss_val.item())\n",
    "\n",
    "        pbar.refresh()\n",
    "        pbar.reset()\n",
    "    return model, loss_train_list, loss_val_list       "
   ]
  },
  {
   "cell_type": "code",
   "execution_count": 22,
   "metadata": {
    "id": "1mj2ZU9yvHZY"
   },
   "outputs": [],
   "source": [
    "def predict_prob(X, model):\n",
    "    X = torch.tensor(X.to_numpy()).float()\n",
    "    X = X.to(device)\n",
    "    y_pred = model(X)[:,0]\n",
    "    y_pred = y_pred.cpu().detach().numpy()\n",
    "    return y_pred\n",
    "\n",
    "def predict_binary(X, model, threshold=0.5):\n",
    "    X = torch.tensor(X.to_numpy()).float()\n",
    "    X = X.to(device)\n",
    "    y_pred = model(X)[:,0]\n",
    "    y_pred = y_pred.cpu().detach().numpy()\n",
    "    y_pred_binary = np.where(y_pred>threshold,1,0)\n",
    "    return y_pred_binary"
   ]
  },
  {
   "cell_type": "markdown",
   "metadata": {
    "id": "Oilz0mBZxhHw"
   },
   "source": [
    "### Define various networks"
   ]
  },
  {
   "cell_type": "code",
   "execution_count": 23,
   "metadata": {
    "id": "fdh_17-p4x2h"
   },
   "outputs": [],
   "source": [
    "# network without hidden layer\n",
    "class Net0(nn.Module):\n",
    "    def __init__(self): \n",
    "        super().__init__()\n",
    "\n",
    "        self.lin1 = nn.Linear(X_train.shape[1], 1)\n",
    "        self.last_layer = nn.Sigmoid()\n",
    "\n",
    "    def forward(self, x):\n",
    "        x = self.lin1(x)\n",
    "        x = self.last_layer(x)\n",
    "        return x"
   ]
  },
  {
   "cell_type": "code",
   "execution_count": 24,
   "metadata": {
    "id": "TPj7ETq86Tp9"
   },
   "outputs": [],
   "source": [
    "# network with 1 hidden layer\n",
    "class Net1(nn.Module):\n",
    "    def __init__(self, hidden_sz1: int):\n",
    "        super().__init__()\n",
    "        self.hidden_size1 = hidden_sz1\n",
    "\n",
    "        self.lin1 = nn.Linear(X_train.shape[1], hidden_sz1)\n",
    "        self.lin2 = nn.Linear(hidden_sz1, 1)\n",
    "        self.activation = nn.ReLU()\n",
    "        self.last_layer = nn.Sigmoid()\n",
    "\n",
    "    def forward(self, x):\n",
    "        x = self.lin1(x)\n",
    "        x = self.activation(x)\n",
    "        x = self.lin2(x)\n",
    "        x = self.last_layer(x)\n",
    "        return x"
   ]
  },
  {
   "cell_type": "code",
   "execution_count": 25,
   "metadata": {
    "id": "90FhVUKX6xMP"
   },
   "outputs": [],
   "source": [
    "# network with 2 hidden layers\n",
    "class Net2(nn.Module):\n",
    "    def __init__(self, hidden_sz1: int, hidden_sz2: int):\n",
    "        super().__init__()\n",
    "        self.hidden_size1 = hidden_sz1\n",
    "        self.hidden_size2 = hidden_sz2\n",
    "\n",
    "        self.lin1 = nn.Linear(X_train.shape[1], hidden_sz1)\n",
    "        self.lin2 = nn.Linear(hidden_sz1, hidden_sz2)\n",
    "        self.lin3 = nn.Linear(hidden_sz2, 1)\n",
    "        self.activation = nn.ReLU()\n",
    "        self.last_layer = nn.Sigmoid()\n",
    "\n",
    "    def forward(self, x):\n",
    "        x = self.lin1(x)\n",
    "        x = self.activation(x)\n",
    "        x = self.lin2(x)\n",
    "        x = self.activation(x)\n",
    "        x = self.lin3(x)\n",
    "        x = self.last_layer(x)\n",
    "        return x"
   ]
  },
  {
   "cell_type": "code",
   "execution_count": 26,
   "metadata": {
    "id": "UHKn9WYo7w2k"
   },
   "outputs": [],
   "source": [
    "# network with 3 hidden layers\n",
    "class Net3(nn.Module):\n",
    "    def __init__(self, hidden_sz1: int, hidden_sz2: int, hidden_sz3: int):\n",
    "        super().__init__()\n",
    "        self.hidden_size1 = hidden_sz1\n",
    "        self.hidden_size2 = hidden_sz2\n",
    "        self.hidden_size3 = hidden_sz3\n",
    "\n",
    "        self.lin1 = nn.Linear(X_train.shape[1], hidden_sz1)\n",
    "        self.lin2 = nn.Linear(hidden_sz1, hidden_sz2)\n",
    "        self.lin3 = nn.Linear(hidden_sz2, hidden_sz3)\n",
    "        self.lin4 = nn.Linear(hidden_sz3, 1)\n",
    "        self.activation = nn.ReLU()\n",
    "        self.last_layer = nn.Sigmoid()\n",
    "\n",
    "    def forward(self, x):\n",
    "        x = self.lin1(x)\n",
    "        x = self.activation(x)\n",
    "        x = self.lin2(x)\n",
    "        x = self.activation(x)\n",
    "        x = self.lin3(x)\n",
    "        x = self.activation(x)\n",
    "        x = self.lin4(x)\n",
    "        x = self.last_layer(x)\n",
    "        return x"
   ]
  },
  {
   "cell_type": "code",
   "execution_count": 27,
   "metadata": {
    "id": "jfNHDqXf84OC"
   },
   "outputs": [
    {
     "name": "stdout",
     "output_type": "stream",
     "text": [
      "Net0(\n",
      "  (lin1): Linear(in_features=779, out_features=1, bias=True)\n",
      "  (last_layer): Sigmoid()\n",
      ") Net1(\n",
      "  (lin1): Linear(in_features=779, out_features=16, bias=True)\n",
      "  (lin2): Linear(in_features=16, out_features=1, bias=True)\n",
      "  (activation): ReLU()\n",
      "  (last_layer): Sigmoid()\n",
      ") Net2(\n",
      "  (lin1): Linear(in_features=779, out_features=128, bias=True)\n",
      "  (lin2): Linear(in_features=128, out_features=16, bias=True)\n",
      "  (lin3): Linear(in_features=16, out_features=1, bias=True)\n",
      "  (activation): ReLU()\n",
      "  (last_layer): Sigmoid()\n",
      ") Net3(\n",
      "  (lin1): Linear(in_features=779, out_features=256, bias=True)\n",
      "  (lin2): Linear(in_features=256, out_features=64, bias=True)\n",
      "  (lin3): Linear(in_features=64, out_features=16, bias=True)\n",
      "  (lin4): Linear(in_features=16, out_features=1, bias=True)\n",
      "  (activation): ReLU()\n",
      "  (last_layer): Sigmoid()\n",
      ")\n"
     ]
    }
   ],
   "source": [
    "net0 = Net0()\n",
    "net1 = Net1(16)\n",
    "net2 = Net2(128,16)\n",
    "net3 = Net3(256,64,16)\n",
    "\n",
    "print(net0, net1, net2, net3)"
   ]
  },
  {
   "cell_type": "markdown",
   "metadata": {
    "id": "cs8IYPr9xwGX"
   },
   "source": [
    "### Train the models"
   ]
  },
  {
   "cell_type": "code",
   "execution_count": 28,
   "metadata": {
    "id": "YbpVyuPv-M6F"
   },
   "outputs": [],
   "source": [
    "# nets to GPU if available\n",
    "net0.to(device)\n",
    "net1.to(device)\n",
    "net2.to(device)\n",
    "net3.to(device)\n",
    "\n",
    "# define optimizer and loss\n",
    "optimizer0 = optim.Adam(net0.parameters(), lr=0.001)\n",
    "optimizer1 = optim.Adam(net1.parameters(), lr=0.001)\n",
    "optimizer2 = optim.Adam(net2.parameters(), lr=0.001)\n",
    "optimizer3 = optim.Adam(net3.parameters(), lr=0.001)\n",
    "my_loss = nn.BCELoss()\n",
    "\n",
    "# define number of epochs and batch_size\n",
    "n_epochs = 300 # 2000\n",
    "batch_sz = 1000 #X_train.shape[0] # all in one batch"
   ]
  },
  {
   "cell_type": "code",
   "execution_count": 29,
   "metadata": {
    "id": "on4MwpjN-Z0s"
   },
   "outputs": [
    {
     "data": {
      "application/vnd.jupyter.widget-view+json": {
       "model_id": "fb1f582bdc6943d1960fe048b92e4d2f",
       "version_major": 2,
       "version_minor": 0
      },
      "text/plain": [
       "HBox(children=(HTML(value=''), FloatProgress(value=0.0, max=14.0), HTML(value='')))"
      ]
     },
     "metadata": {},
     "output_type": "display_data"
    },
    {
     "data": {
      "application/vnd.jupyter.widget-view+json": {
       "model_id": "8f9657efd91c4eac9ecc8b324f70527f",
       "version_major": 2,
       "version_minor": 0
      },
      "text/plain": [
       "HBox(children=(HTML(value=''), FloatProgress(value=0.0, max=14.0), HTML(value='')))"
      ]
     },
     "metadata": {},
     "output_type": "display_data"
    },
    {
     "name": "stdout",
     "output_type": "stream",
     "text": [
      "\n"
     ]
    },
    {
     "data": {
      "application/vnd.jupyter.widget-view+json": {
       "model_id": "bde1ef7083674334892ecf2070789ff4",
       "version_major": 2,
       "version_minor": 0
      },
      "text/plain": [
       "HBox(children=(HTML(value=''), FloatProgress(value=0.0, max=14.0), HTML(value='')))"
      ]
     },
     "metadata": {},
     "output_type": "display_data"
    },
    {
     "data": {
      "application/vnd.jupyter.widget-view+json": {
       "model_id": "6dc283748f0c497ebd24727e8d0c926b",
       "version_major": 2,
       "version_minor": 0
      },
      "text/plain": [
       "HBox(children=(HTML(value=''), FloatProgress(value=0.0, max=14.0), HTML(value='')))"
      ]
     },
     "metadata": {},
     "output_type": "display_data"
    }
   ],
   "source": [
    "# train all nets\n",
    "net0, loss_train_list0, loss_val_list0 = fit(X_train, y_train, X_val, y_val, net0, optimizer0, batch_size=batch_sz, epochs=n_epochs, loss_fn=my_loss)\n",
    "net1, loss_train_list1, loss_val_list1 = fit(X_train, y_train, X_val, y_val, net1, optimizer1, batch_size=batch_sz, epochs=n_epochs, loss_fn=my_loss)\n",
    "net2, loss_train_list2, loss_val_list2 = fit(X_train, y_train, X_val, y_val, net2, optimizer2, batch_size=batch_sz, epochs=n_epochs, loss_fn=my_loss)\n",
    "net3, loss_train_list3, loss_val_list3 = fit(X_train, y_train, X_val, y_val, net3, optimizer3, batch_size=batch_sz, epochs=n_epochs, loss_fn=my_loss)"
   ]
  },
  {
   "cell_type": "markdown",
   "metadata": {
    "id": "8KPNlJ43x9UX"
   },
   "source": [
    "### Find the right number of epochs to avoid overfitting"
   ]
  },
  {
   "cell_type": "code",
   "execution_count": 30,
   "metadata": {
    "id": "T4Har0rcW09d"
   },
   "outputs": [
    {
     "name": "stdout",
     "output_type": "stream",
     "text": [
      "\n",
      "\n",
      "\n"
     ]
    },
    {
     "data": {
      "image/png": "[encoded data removed]",
      "text/plain": [
       "<Figure size 1152x648 with 4 Axes>"
      ]
     },
     "metadata": {
      "needs_background": "light"
     },
     "output_type": "display_data"
    }
   ],
   "source": [
    "# plot evolvement of train and validation loss\n",
    "saving_figures = False\n",
    "\n",
    "fig=plt.figure(figsize=(16, 9))\n",
    "\n",
    "fig.add_subplot(2, 2, 1)\n",
    "plt.plot(loss_train_list0)\n",
    "plt.plot(loss_val_list0)\n",
    "plt.title(\"Loss evolvement for net0\")\n",
    "plt.legend([\"train loss\",\"validation loss\"])\n",
    "\n",
    "fig.add_subplot(2, 2, 2)\n",
    "plt.plot(loss_train_list1)\n",
    "plt.plot(loss_val_list1)\n",
    "plt.title(\"Loss evolvement for net1\")\n",
    "plt.legend([\"train loss\",\"validation loss\"])\n",
    "\n",
    "fig.add_subplot(2, 2, 3)\n",
    "plt.plot(loss_train_list2)\n",
    "plt.plot(loss_val_list2)\n",
    "plt.title(\"Loss evolvement for net2\")\n",
    "plt.legend([\"train loss\",\"validation loss\"])\n",
    "\n",
    "fig.add_subplot(2, 2, 4)\n",
    "plt.plot(loss_train_list3)\n",
    "plt.plot(loss_val_list3)\n",
    "plt.title(\"Loss evolvement for net3\")\n",
    "plt.legend([\"train loss\",\"validation loss\"])\n",
    "\n",
    "\n",
    "if saving_figures:\n",
    "  plt.savefig(my_dir + \"losses.pdf\", bbox_inches='tight')\n",
    "plt.show()"
   ]
  },
  {
   "cell_type": "code",
   "execution_count": 31,
   "metadata": {
    "id": "Hv2a22F9XvJW"
   },
   "outputs": [
    {
     "data": {
      "text/plain": [
       "((298, 0.33835461735725403),\n",
       " (298, 0.27517786622047424),\n",
       " (71, 0.26537972688674927),\n",
       " (38, 0.2737787365913391))"
      ]
     },
     "execution_count": 31,
     "metadata": {},
     "output_type": "execute_result"
    }
   ],
   "source": [
    "# find the best number of epochs by lowest validation loss\n",
    "best0 = np.argmin(loss_val_list0), np.min(loss_val_list0)\n",
    "best1 = np.argmin(loss_val_list1), np.min(loss_val_list1)\n",
    "best2 = np.argmin(loss_val_list2), np.min(loss_val_list2)\n",
    "best3 = np.argmin(loss_val_list3), np.min(loss_val_list3)\n",
    "\n",
    "best0, best1, best2, best3"
   ]
  },
  {
   "cell_type": "markdown",
   "metadata": {
    "id": "Nn17h2qqyJK1"
   },
   "source": [
    "### Retrain models with the right number of epochs"
   ]
  },
  {
   "cell_type": "code",
   "execution_count": 32,
   "metadata": {
    "id": "HTNYGzZWJrH8"
   },
   "outputs": [
    {
     "name": "stdout",
     "output_type": "stream",
     "text": [
      "Net0(\n",
      "  (lin1): Linear(in_features=779, out_features=1, bias=True)\n",
      "  (last_layer): Sigmoid()\n",
      ") Net1(\n",
      "  (lin1): Linear(in_features=779, out_features=16, bias=True)\n",
      "  (lin2): Linear(in_features=16, out_features=1, bias=True)\n",
      "  (activation): ReLU()\n",
      "  (last_layer): Sigmoid()\n",
      ") Net2(\n",
      "  (lin1): Linear(in_features=779, out_features=128, bias=True)\n",
      "  (lin2): Linear(in_features=128, out_features=16, bias=True)\n",
      "  (lin3): Linear(in_features=16, out_features=1, bias=True)\n",
      "  (activation): ReLU()\n",
      "  (last_layer): Sigmoid()\n",
      ") Net3(\n",
      "  (lin1): Linear(in_features=779, out_features=256, bias=True)\n",
      "  (lin2): Linear(in_features=256, out_features=64, bias=True)\n",
      "  (lin3): Linear(in_features=64, out_features=16, bias=True)\n",
      "  (lin4): Linear(in_features=16, out_features=1, bias=True)\n",
      "  (activation): ReLU()\n",
      "  (last_layer): Sigmoid()\n",
      ")\n"
     ]
    }
   ],
   "source": [
    "# define all nets again\n",
    "net0 = Net0()\n",
    "net1 = Net1(16)\n",
    "net2 = Net2(128,16)\n",
    "net3 = Net3(256,64,16)\n",
    "\n",
    "net0.to(device)\n",
    "net1.to(device)\n",
    "net2.to(device)\n",
    "net3.to(device)\n",
    "\n",
    "optimizer0 = optim.Adam(net0.parameters(), lr=0.001)\n",
    "optimizer1 = optim.Adam(net1.parameters(), lr=0.001)\n",
    "optimizer2 = optim.Adam(net2.parameters(), lr=0.001)\n",
    "optimizer3 = optim.Adam(net3.parameters(), lr=0.001)\n",
    "\n",
    "print(net0, net1, net2, net3)"
   ]
  },
  {
   "cell_type": "code",
   "execution_count": 33,
   "metadata": {
    "id": "r9guAlwiyNDe"
   },
   "outputs": [
    {
     "data": {
      "application/vnd.jupyter.widget-view+json": {
       "model_id": "bcc5e7d9fab441219fd375e000ec6058",
       "version_major": 2,
       "version_minor": 0
      },
      "text/plain": [
       "HBox(children=(HTML(value=''), FloatProgress(value=0.0, max=14.0), HTML(value='')))"
      ]
     },
     "metadata": {},
     "output_type": "display_data"
    },
    {
     "data": {
      "application/vnd.jupyter.widget-view+json": {
       "model_id": "7bdebf94ba0645a5a16f58d4b9feb981",
       "version_major": 2,
       "version_minor": 0
      },
      "text/plain": [
       "HBox(children=(HTML(value=''), FloatProgress(value=0.0, max=14.0), HTML(value='')))"
      ]
     },
     "metadata": {},
     "output_type": "display_data"
    },
    {
     "data": {
      "application/vnd.jupyter.widget-view+json": {
       "model_id": "77fca54cd24941c5ac82552263defa1c",
       "version_major": 2,
       "version_minor": 0
      },
      "text/plain": [
       "HBox(children=(HTML(value=''), FloatProgress(value=0.0, max=14.0), HTML(value='')))"
      ]
     },
     "metadata": {},
     "output_type": "display_data"
    },
    {
     "name": "stdout",
     "output_type": "stream",
     "text": [
      "\n"
     ]
    },
    {
     "data": {
      "application/vnd.jupyter.widget-view+json": {
       "model_id": "4704d15dc4714372afe9739e8ee8d440",
       "version_major": 2,
       "version_minor": 0
      },
      "text/plain": [
       "HBox(children=(HTML(value=''), FloatProgress(value=0.0, max=14.0), HTML(value='')))"
      ]
     },
     "metadata": {},
     "output_type": "display_data"
    }
   ],
   "source": [
    "# train all nets again\n",
    "net0, loss_train_list0, loss_val_list0 = fit(X_train, y_train, X_val, y_val, net0, optimizer0, batch_size=batch_sz, epochs=best0[0], loss_fn=my_loss)\n",
    "net1, loss_train_list1, loss_val_list1 = fit(X_train, y_train, X_val, y_val, net1, optimizer1, batch_size=batch_sz, epochs=best1[0], loss_fn=my_loss)\n",
    "net2, loss_train_list2, loss_val_list2 = fit(X_train, y_train, X_val, y_val, net2, optimizer2, batch_size=batch_sz, epochs=best2[0], loss_fn=my_loss)\n",
    "net3, loss_train_list3, loss_val_list3 = fit(X_train, y_train, X_val, y_val, net3, optimizer3, batch_size=batch_sz, epochs=best3[0], loss_fn=my_loss)"
   ]
  },
  {
   "cell_type": "markdown",
   "metadata": {
    "id": "YklDJBHlx0a3"
   },
   "source": [
    "### Evaluate the models"
   ]
  },
  {
   "cell_type": "code",
   "execution_count": 34,
   "metadata": {
    "id": "AFJAQOQ4fOUs"
   },
   "outputs": [
    {
     "data": {
      "text/plain": [
       "(0.8496666666666667, 0.8793333333333333, 0.8836666666666667, 0.875)"
      ]
     },
     "execution_count": 34,
     "metadata": {},
     "output_type": "execute_result"
    }
   ],
   "source": [
    "# calculate accuracy on test data\n",
    "accuracy0 = accuracy_score(y_test, predict_binary(X_test, net0, 0.5))\n",
    "accuracy1 = accuracy_score(y_test, predict_binary(X_test, net1, 0.5))\n",
    "accuracy2 = accuracy_score(y_test, predict_binary(X_test, net2, 0.5))\n",
    "accuracy3 = accuracy_score(y_test, predict_binary(X_test, net3, 0.5))\n",
    "\n",
    "accuracy0, accuracy1, accuracy2, accuracy3\n",
    "\n",
    "# -> net2 the best (possibly also net3)"
   ]
  },
  {
   "cell_type": "markdown",
   "metadata": {
    "id": "qoDQEjfOLH9x"
   },
   "source": [
    "# Predict on out-of sample data"
   ]
  },
  {
   "cell_type": "markdown",
   "metadata": {
    "id": "ptzLt7JEZZzP"
   },
   "source": [
    "## Various categories"
   ]
  },
  {
   "cell_type": "code",
   "execution_count": 35,
   "metadata": {
    "id": "gf0hUKoMZhG5"
   },
   "outputs": [
    {
     "data": {
      "text/html": [
       "<div>\n",
       "<style scoped>\n",
       "    .dataframe tbody tr th:only-of-type {\n",
       "        vertical-align: middle;\n",
       "    }\n",
       "\n",
       "    .dataframe tbody tr th {\n",
       "        vertical-align: top;\n",
       "    }\n",
       "\n",
       "    .dataframe thead th {\n",
       "        text-align: right;\n",
       "    }\n",
       "</style>\n",
       "<table border=\"1\" class=\"dataframe\">\n",
       "  <thead>\n",
       "    <tr style=\"text-align: right;\">\n",
       "      <th></th>\n",
       "      <th>Unnamed: 0</th>\n",
       "      <th>id</th>\n",
       "      <th>domain</th>\n",
       "      <th>type</th>\n",
       "      <th>url</th>\n",
       "      <th>content</th>\n",
       "      <th>scraped_at</th>\n",
       "      <th>inserted_at</th>\n",
       "      <th>updated_at</th>\n",
       "      <th>title</th>\n",
       "      <th>authors</th>\n",
       "      <th>keywords</th>\n",
       "      <th>meta_keywords</th>\n",
       "      <th>meta_description</th>\n",
       "      <th>tags</th>\n",
       "      <th>summary</th>\n",
       "      <th>source</th>\n",
       "    </tr>\n",
       "  </thead>\n",
       "  <tbody>\n",
       "    <tr>\n",
       "      <th>0</th>\n",
       "      <td>4336</td>\n",
       "      <td>929838.0</td>\n",
       "      <td>christianpost.com</td>\n",
       "      <td>reliable</td>\n",
       "      <td>https://www.christianpost.com/news/jesus-chris...</td>\n",
       "      <td>(Photo: Reuters/Danny Moloshok) Tyler Perry sp...</td>\n",
       "      <td>2018-01-25 20:13:50.426130</td>\n",
       "      <td>2018-02-02 01:19:41.756632</td>\n",
       "      <td>2018-02-02 01:19:41.756664</td>\n",
       "      <td>Roles of Jesus Christ, Judas Cast in Tyler Per...</td>\n",
       "      <td>NaN</td>\n",
       "      <td>NaN</td>\n",
       "      <td>['']</td>\n",
       "      <td>The actors who will portray Jesus Christ and J...</td>\n",
       "      <td>NaN</td>\n",
       "      <td>NaN</td>\n",
       "      <td>NaN</td>\n",
       "    </tr>\n",
       "    <tr>\n",
       "      <th>1</th>\n",
       "      <td>8066</td>\n",
       "      <td>934184.0</td>\n",
       "      <td>christianpost.com</td>\n",
       "      <td>reliable</td>\n",
       "      <td>https://www.christianpost.com/news/cannibalism...</td>\n",
       "      <td>(Screengrab: YouTube / RWW Blog) Televangelist...</td>\n",
       "      <td>2018-01-25 20:13:50.426130</td>\n",
       "      <td>2018-02-02 01:19:41.756632</td>\n",
       "      <td>2018-02-02 01:19:41.756664</td>\n",
       "      <td>Cannibalism in the End Times? Jim Bakker Says ...</td>\n",
       "      <td>NaN</td>\n",
       "      <td>NaN</td>\n",
       "      <td>['']</td>\n",
       "      <td>Televangelist Jim Bakker has warned viewers of...</td>\n",
       "      <td>NaN</td>\n",
       "      <td>NaN</td>\n",
       "      <td>NaN</td>\n",
       "    </tr>\n",
       "    <tr>\n",
       "      <th>2</th>\n",
       "      <td>2776</td>\n",
       "      <td>479786.0</td>\n",
       "      <td>nutritionfacts.org</td>\n",
       "      <td>reliable</td>\n",
       "      <td>https://nutritionfacts.org/audio/to-pee-or-not...</td>\n",
       "      <td>Hello and welcome to Nutrition Facts. I’m your...</td>\n",
       "      <td>2018-01-25 20:13:50.426130</td>\n",
       "      <td>2018-02-02 01:19:41.756632</td>\n",
       "      <td>2018-02-02 01:19:41.756664</td>\n",
       "      <td>To Pee or not to Pee</td>\n",
       "      <td>NaN</td>\n",
       "      <td>NaN</td>\n",
       "      <td>['']</td>\n",
       "      <td>NaN</td>\n",
       "      <td>NaN</td>\n",
       "      <td>NaN</td>\n",
       "      <td>NaN</td>\n",
       "    </tr>\n",
       "    <tr>\n",
       "      <th>3</th>\n",
       "      <td>2070</td>\n",
       "      <td>781392.0</td>\n",
       "      <td>christianpost.com</td>\n",
       "      <td>reliable</td>\n",
       "      <td>https://www.christianpost.com/news/hp-ceo-leo-...</td>\n",
       "      <td>Hewlett-Packard Co has ousted CEO Leo Apotheke...</td>\n",
       "      <td>2018-01-25 20:13:50.426130</td>\n",
       "      <td>2018-02-02 01:19:41.756632</td>\n",
       "      <td>2018-02-02 01:19:41.756664</td>\n",
       "      <td>HP CEO Leo Apotheker Fired, Meg Whitman Takes ...</td>\n",
       "      <td>NaN</td>\n",
       "      <td>NaN</td>\n",
       "      <td>['']</td>\n",
       "      <td>Hewlett-Packard Co has ousted CEO Leo Apotheke...</td>\n",
       "      <td>NaN</td>\n",
       "      <td>NaN</td>\n",
       "      <td>NaN</td>\n",
       "    </tr>\n",
       "    <tr>\n",
       "      <th>4</th>\n",
       "      <td>405</td>\n",
       "      <td>471.0</td>\n",
       "      <td>christianpost.com</td>\n",
       "      <td>reliable</td>\n",
       "      <td>https://www.christianpost.com/news/nsa-has-bee...</td>\n",
       "      <td>REUTERS/Pawel Kopczynski An illustration pictu...</td>\n",
       "      <td>2018-01-25 16:17:44.789555</td>\n",
       "      <td>2018-02-02 01:19:41.756632</td>\n",
       "      <td>2018-02-02 01:19:41.756664</td>\n",
       "      <td>NSA Has Been Running a Voice-Recognition Syste...</td>\n",
       "      <td>NaN</td>\n",
       "      <td>NaN</td>\n",
       "      <td>['']</td>\n",
       "      <td>The National Security Agency has reportedly be...</td>\n",
       "      <td>NaN</td>\n",
       "      <td>NaN</td>\n",
       "      <td>NaN</td>\n",
       "    </tr>\n",
       "  </tbody>\n",
       "</table>\n",
       "</div>"
      ],
      "text/plain": [
       "   Unnamed: 0        id              domain      type  \\\n",
       "0        4336  929838.0   christianpost.com  reliable   \n",
       "1        8066  934184.0   christianpost.com  reliable   \n",
       "2        2776  479786.0  nutritionfacts.org  reliable   \n",
       "3        2070  781392.0   christianpost.com  reliable   \n",
       "4         405     471.0   christianpost.com  reliable   \n",
       "\n",
       "                                                 url  \\\n",
       "0  https://www.christianpost.com/news/jesus-chris...   \n",
       "1  https://www.christianpost.com/news/cannibalism...   \n",
       "2  https://nutritionfacts.org/audio/to-pee-or-not...   \n",
       "3  https://www.christianpost.com/news/hp-ceo-leo-...   \n",
       "4  https://www.christianpost.com/news/nsa-has-bee...   \n",
       "\n",
       "                                             content  \\\n",
       "0  (Photo: Reuters/Danny Moloshok) Tyler Perry sp...   \n",
       "1  (Screengrab: YouTube / RWW Blog) Televangelist...   \n",
       "2  Hello and welcome to Nutrition Facts. I’m your...   \n",
       "3  Hewlett-Packard Co has ousted CEO Leo Apotheke...   \n",
       "4  REUTERS/Pawel Kopczynski An illustration pictu...   \n",
       "\n",
       "                   scraped_at                 inserted_at  \\\n",
       "0  2018-01-25 20:13:50.426130  2018-02-02 01:19:41.756632   \n",
       "1  2018-01-25 20:13:50.426130  2018-02-02 01:19:41.756632   \n",
       "2  2018-01-25 20:13:50.426130  2018-02-02 01:19:41.756632   \n",
       "3  2018-01-25 20:13:50.426130  2018-02-02 01:19:41.756632   \n",
       "4  2018-01-25 16:17:44.789555  2018-02-02 01:19:41.756632   \n",
       "\n",
       "                   updated_at  \\\n",
       "0  2018-02-02 01:19:41.756664   \n",
       "1  2018-02-02 01:19:41.756664   \n",
       "2  2018-02-02 01:19:41.756664   \n",
       "3  2018-02-02 01:19:41.756664   \n",
       "4  2018-02-02 01:19:41.756664   \n",
       "\n",
       "                                               title authors  keywords  \\\n",
       "0  Roles of Jesus Christ, Judas Cast in Tyler Per...     NaN       NaN   \n",
       "1  Cannibalism in the End Times? Jim Bakker Says ...     NaN       NaN   \n",
       "2                               To Pee or not to Pee     NaN       NaN   \n",
       "3  HP CEO Leo Apotheker Fired, Meg Whitman Takes ...     NaN       NaN   \n",
       "4  NSA Has Been Running a Voice-Recognition Syste...     NaN       NaN   \n",
       "\n",
       "  meta_keywords                                   meta_description tags  \\\n",
       "0          ['']  The actors who will portray Jesus Christ and J...  NaN   \n",
       "1          ['']  Televangelist Jim Bakker has warned viewers of...  NaN   \n",
       "2          ['']                                                NaN  NaN   \n",
       "3          ['']  Hewlett-Packard Co has ousted CEO Leo Apotheke...  NaN   \n",
       "4          ['']  The National Security Agency has reportedly be...  NaN   \n",
       "\n",
       "   summary  source  \n",
       "0      NaN     NaN  \n",
       "1      NaN     NaN  \n",
       "2      NaN     NaN  \n",
       "3      NaN     NaN  \n",
       "4      NaN     NaN  "
      ]
     },
     "execution_count": 35,
     "metadata": {},
     "output_type": "execute_result"
    }
   ],
   "source": [
    "allcat_data = pd.read_csv(my_dir + 'our_data_500.csv')\n",
    "allcat_data.head()"
   ]
  },
  {
   "cell_type": "code",
   "execution_count": 36,
   "metadata": {
    "id": "pVDbJieWZhG6"
   },
   "outputs": [
    {
     "name": "stdout",
     "output_type": "stream",
     "text": [
      "\n",
      "\n",
      "\n"
     ]
    },
    {
     "name": "stderr",
     "output_type": "stream",
     "text": [
      "Some weights of the model checkpoint at distilbert-base-uncased were not used when initializing DistilBertModel: ['vocab_layer_norm.weight', 'vocab_transform.weight', 'vocab_transform.bias', 'vocab_projector.bias', 'vocab_layer_norm.bias', 'vocab_projector.weight']\n",
      "- This IS expected if you are initializing DistilBertModel from the checkpoint of a model trained on another task or with another architecture (e.g. initializing a BertForSequenceClassification model from a BertForPreTraining model).\n",
      "- This IS NOT expected if you are initializing DistilBertModel from the checkpoint of a model that you expect to be exactly identical (initializing a BertForSequenceClassification model from a BertForSequenceClassification model).\n",
      "Token indices sequence length is longer than the specified maximum sequence length for this model (795 > 512). Running this sequence through the model will result in indexing errors\n"
     ]
    },
    {
     "name": "stdout",
     "output_type": "stream",
     "text": [
      "Tokenization DONE\n",
      "Padding DONE\n",
      "0\n",
      "1000\n",
      "2000\n",
      "3000\n",
      "4000\n",
      "Embeddings DONE\n"
     ]
    },
    {
     "data": {
      "text/plain": [
       "(5000, 796)"
      ]
     },
     "execution_count": 36,
     "metadata": {},
     "output_type": "execute_result"
    }
   ],
   "source": [
    "# Use DistilBERT\n",
    "allcat_data_x = embeddings_distilbert(allcat_data[\"content\"],1)\n",
    "allcat_data_after_bert = pd.concat([allcat_data, pd.DataFrame(allcat_data_x)], axis=1)\n",
    "\n",
    "# Add features\n",
    "allcat_score_data = add_features(allcat_data_after_bert, \"content\")\n",
    "allcat_score_data.shape"
   ]
  },
  {
   "cell_type": "code",
   "execution_count": 37,
   "metadata": {
    "id": "ba3_QHD6ZhG7"
   },
   "outputs": [],
   "source": [
    "# Save X for prediction\n",
    "allcat_X = allcat_score_data.iloc[:,17:]"
   ]
  },
  {
   "cell_type": "code",
   "execution_count": 38,
   "metadata": {
    "id": "QwuZv2SXZhG8"
   },
   "outputs": [
    {
     "data": {
      "image/png": "[encoded data removed]",
      "text/plain": [
       "<Figure size 432x288 with 1 Axes>"
      ]
     },
     "metadata": {
      "needs_background": "light"
     },
     "output_type": "display_data"
    }
   ],
   "source": [
    "# Predict probability and see histogram\n",
    "plt.hist(predict_prob(allcat_X, net2))\n",
    "plt.show()"
   ]
  },
  {
   "cell_type": "code",
   "execution_count": 39,
   "metadata": {
    "id": "BnRMEiiSfriy"
   },
   "outputs": [
    {
     "data": {
      "text/html": [
       "<div>\n",
       "<style scoped>\n",
       "    .dataframe tbody tr th:only-of-type {\n",
       "        vertical-align: middle;\n",
       "    }\n",
       "\n",
       "    .dataframe tbody tr th {\n",
       "        vertical-align: top;\n",
       "    }\n",
       "\n",
       "    .dataframe thead th {\n",
       "        text-align: right;\n",
       "    }\n",
       "</style>\n",
       "<table border=\"1\" class=\"dataframe\">\n",
       "  <thead>\n",
       "    <tr style=\"text-align: right;\">\n",
       "      <th></th>\n",
       "      <th>Unnamed: 0</th>\n",
       "      <th>id</th>\n",
       "      <th>domain</th>\n",
       "      <th>type</th>\n",
       "      <th>url</th>\n",
       "      <th>content</th>\n",
       "      <th>scraped_at</th>\n",
       "      <th>inserted_at</th>\n",
       "      <th>updated_at</th>\n",
       "      <th>title</th>\n",
       "      <th>authors</th>\n",
       "      <th>keywords</th>\n",
       "      <th>meta_keywords</th>\n",
       "      <th>meta_description</th>\n",
       "      <th>tags</th>\n",
       "      <th>summary</th>\n",
       "      <th>source</th>\n",
       "      <th>pred_prob</th>\n",
       "    </tr>\n",
       "  </thead>\n",
       "  <tbody>\n",
       "    <tr>\n",
       "      <th>0</th>\n",
       "      <td>4336</td>\n",
       "      <td>929838.0</td>\n",
       "      <td>christianpost.com</td>\n",
       "      <td>reliable</td>\n",
       "      <td>https://www.christianpost.com/news/jesus-chris...</td>\n",
       "      <td>(Photo: Reuters/Danny Moloshok) Tyler Perry sp...</td>\n",
       "      <td>2018-01-25 20:13:50.426130</td>\n",
       "      <td>2018-02-02 01:19:41.756632</td>\n",
       "      <td>2018-02-02 01:19:41.756664</td>\n",
       "      <td>Roles of Jesus Christ, Judas Cast in Tyler Per...</td>\n",
       "      <td>NaN</td>\n",
       "      <td>NaN</td>\n",
       "      <td>['']</td>\n",
       "      <td>The actors who will portray Jesus Christ and J...</td>\n",
       "      <td>NaN</td>\n",
       "      <td>NaN</td>\n",
       "      <td>NaN</td>\n",
       "      <td>0.000043</td>\n",
       "    </tr>\n",
       "    <tr>\n",
       "      <th>1</th>\n",
       "      <td>8066</td>\n",
       "      <td>934184.0</td>\n",
       "      <td>christianpost.com</td>\n",
       "      <td>reliable</td>\n",
       "      <td>https://www.christianpost.com/news/cannibalism...</td>\n",
       "      <td>(Screengrab: YouTube / RWW Blog) Televangelist...</td>\n",
       "      <td>2018-01-25 20:13:50.426130</td>\n",
       "      <td>2018-02-02 01:19:41.756632</td>\n",
       "      <td>2018-02-02 01:19:41.756664</td>\n",
       "      <td>Cannibalism in the End Times? Jim Bakker Says ...</td>\n",
       "      <td>NaN</td>\n",
       "      <td>NaN</td>\n",
       "      <td>['']</td>\n",
       "      <td>Televangelist Jim Bakker has warned viewers of...</td>\n",
       "      <td>NaN</td>\n",
       "      <td>NaN</td>\n",
       "      <td>NaN</td>\n",
       "      <td>0.019275</td>\n",
       "    </tr>\n",
       "    <tr>\n",
       "      <th>2</th>\n",
       "      <td>2776</td>\n",
       "      <td>479786.0</td>\n",
       "      <td>nutritionfacts.org</td>\n",
       "      <td>reliable</td>\n",
       "      <td>https://nutritionfacts.org/audio/to-pee-or-not...</td>\n",
       "      <td>Hello and welcome to Nutrition Facts. I’m your...</td>\n",
       "      <td>2018-01-25 20:13:50.426130</td>\n",
       "      <td>2018-02-02 01:19:41.756632</td>\n",
       "      <td>2018-02-02 01:19:41.756664</td>\n",
       "      <td>To Pee or not to Pee</td>\n",
       "      <td>NaN</td>\n",
       "      <td>NaN</td>\n",
       "      <td>['']</td>\n",
       "      <td>NaN</td>\n",
       "      <td>NaN</td>\n",
       "      <td>NaN</td>\n",
       "      <td>NaN</td>\n",
       "      <td>0.379530</td>\n",
       "    </tr>\n",
       "    <tr>\n",
       "      <th>3</th>\n",
       "      <td>2070</td>\n",
       "      <td>781392.0</td>\n",
       "      <td>christianpost.com</td>\n",
       "      <td>reliable</td>\n",
       "      <td>https://www.christianpost.com/news/hp-ceo-leo-...</td>\n",
       "      <td>Hewlett-Packard Co has ousted CEO Leo Apotheke...</td>\n",
       "      <td>2018-01-25 20:13:50.426130</td>\n",
       "      <td>2018-02-02 01:19:41.756632</td>\n",
       "      <td>2018-02-02 01:19:41.756664</td>\n",
       "      <td>HP CEO Leo Apotheker Fired, Meg Whitman Takes ...</td>\n",
       "      <td>NaN</td>\n",
       "      <td>NaN</td>\n",
       "      <td>['']</td>\n",
       "      <td>Hewlett-Packard Co has ousted CEO Leo Apotheke...</td>\n",
       "      <td>NaN</td>\n",
       "      <td>NaN</td>\n",
       "      <td>NaN</td>\n",
       "      <td>0.017374</td>\n",
       "    </tr>\n",
       "    <tr>\n",
       "      <th>4</th>\n",
       "      <td>405</td>\n",
       "      <td>471.0</td>\n",
       "      <td>christianpost.com</td>\n",
       "      <td>reliable</td>\n",
       "      <td>https://www.christianpost.com/news/nsa-has-bee...</td>\n",
       "      <td>REUTERS/Pawel Kopczynski An illustration pictu...</td>\n",
       "      <td>2018-01-25 16:17:44.789555</td>\n",
       "      <td>2018-02-02 01:19:41.756632</td>\n",
       "      <td>2018-02-02 01:19:41.756664</td>\n",
       "      <td>NSA Has Been Running a Voice-Recognition Syste...</td>\n",
       "      <td>NaN</td>\n",
       "      <td>NaN</td>\n",
       "      <td>['']</td>\n",
       "      <td>The National Security Agency has reportedly be...</td>\n",
       "      <td>NaN</td>\n",
       "      <td>NaN</td>\n",
       "      <td>NaN</td>\n",
       "      <td>0.074589</td>\n",
       "    </tr>\n",
       "  </tbody>\n",
       "</table>\n",
       "</div>"
      ],
      "text/plain": [
       "   Unnamed: 0        id              domain      type  \\\n",
       "0        4336  929838.0   christianpost.com  reliable   \n",
       "1        8066  934184.0   christianpost.com  reliable   \n",
       "2        2776  479786.0  nutritionfacts.org  reliable   \n",
       "3        2070  781392.0   christianpost.com  reliable   \n",
       "4         405     471.0   christianpost.com  reliable   \n",
       "\n",
       "                                                 url  \\\n",
       "0  https://www.christianpost.com/news/jesus-chris...   \n",
       "1  https://www.christianpost.com/news/cannibalism...   \n",
       "2  https://nutritionfacts.org/audio/to-pee-or-not...   \n",
       "3  https://www.christianpost.com/news/hp-ceo-leo-...   \n",
       "4  https://www.christianpost.com/news/nsa-has-bee...   \n",
       "\n",
       "                                             content  \\\n",
       "0  (Photo: Reuters/Danny Moloshok) Tyler Perry sp...   \n",
       "1  (Screengrab: YouTube / RWW Blog) Televangelist...   \n",
       "2  Hello and welcome to Nutrition Facts. I’m your...   \n",
       "3  Hewlett-Packard Co has ousted CEO Leo Apotheke...   \n",
       "4  REUTERS/Pawel Kopczynski An illustration pictu...   \n",
       "\n",
       "                   scraped_at                 inserted_at  \\\n",
       "0  2018-01-25 20:13:50.426130  2018-02-02 01:19:41.756632   \n",
       "1  2018-01-25 20:13:50.426130  2018-02-02 01:19:41.756632   \n",
       "2  2018-01-25 20:13:50.426130  2018-02-02 01:19:41.756632   \n",
       "3  2018-01-25 20:13:50.426130  2018-02-02 01:19:41.756632   \n",
       "4  2018-01-25 16:17:44.789555  2018-02-02 01:19:41.756632   \n",
       "\n",
       "                   updated_at  \\\n",
       "0  2018-02-02 01:19:41.756664   \n",
       "1  2018-02-02 01:19:41.756664   \n",
       "2  2018-02-02 01:19:41.756664   \n",
       "3  2018-02-02 01:19:41.756664   \n",
       "4  2018-02-02 01:19:41.756664   \n",
       "\n",
       "                                               title authors  keywords  \\\n",
       "0  Roles of Jesus Christ, Judas Cast in Tyler Per...     NaN       NaN   \n",
       "1  Cannibalism in the End Times? Jim Bakker Says ...     NaN       NaN   \n",
       "2                               To Pee or not to Pee     NaN       NaN   \n",
       "3  HP CEO Leo Apotheker Fired, Meg Whitman Takes ...     NaN       NaN   \n",
       "4  NSA Has Been Running a Voice-Recognition Syste...     NaN       NaN   \n",
       "\n",
       "  meta_keywords                                   meta_description tags  \\\n",
       "0          ['']  The actors who will portray Jesus Christ and J...  NaN   \n",
       "1          ['']  Televangelist Jim Bakker has warned viewers of...  NaN   \n",
       "2          ['']                                                NaN  NaN   \n",
       "3          ['']  Hewlett-Packard Co has ousted CEO Leo Apotheke...  NaN   \n",
       "4          ['']  The National Security Agency has reportedly be...  NaN   \n",
       "\n",
       "   summary  source  pred_prob  \n",
       "0      NaN     NaN   0.000043  \n",
       "1      NaN     NaN   0.019275  \n",
       "2      NaN     NaN   0.379530  \n",
       "3      NaN     NaN   0.017374  \n",
       "4      NaN     NaN   0.074589  "
      ]
     },
     "execution_count": 39,
     "metadata": {},
     "output_type": "execute_result"
    }
   ],
   "source": [
    "allcat_data[\"pred_prob\"] = predict_prob(allcat_X, net2)\n",
    "allcat_data.head()"
   ]
  },
  {
   "cell_type": "code",
   "execution_count": 40,
   "metadata": {
    "id": "3detwvssf_nJ"
   },
   "outputs": [
    {
     "data": {
      "text/html": [
       "<div>\n",
       "<style scoped>\n",
       "    .dataframe tbody tr th:only-of-type {\n",
       "        vertical-align: middle;\n",
       "    }\n",
       "\n",
       "    .dataframe tbody tr th {\n",
       "        vertical-align: top;\n",
       "    }\n",
       "\n",
       "    .dataframe thead th {\n",
       "        text-align: right;\n",
       "    }\n",
       "</style>\n",
       "<table border=\"1\" class=\"dataframe\">\n",
       "  <thead>\n",
       "    <tr style=\"text-align: right;\">\n",
       "      <th></th>\n",
       "      <th>pred_prob</th>\n",
       "    </tr>\n",
       "    <tr>\n",
       "      <th>type</th>\n",
       "      <th></th>\n",
       "    </tr>\n",
       "  </thead>\n",
       "  <tbody>\n",
       "    <tr>\n",
       "      <th>bias</th>\n",
       "      <td>0.870998</td>\n",
       "    </tr>\n",
       "    <tr>\n",
       "      <th>clickbait</th>\n",
       "      <td>0.402490</td>\n",
       "    </tr>\n",
       "    <tr>\n",
       "      <th>conspiracy</th>\n",
       "      <td>0.986072</td>\n",
       "    </tr>\n",
       "    <tr>\n",
       "      <th>fake</th>\n",
       "      <td>0.993442</td>\n",
       "    </tr>\n",
       "    <tr>\n",
       "      <th>hate</th>\n",
       "      <td>0.433329</td>\n",
       "    </tr>\n",
       "    <tr>\n",
       "      <th>junksci</th>\n",
       "      <td>0.975060</td>\n",
       "    </tr>\n",
       "    <tr>\n",
       "      <th>political</th>\n",
       "      <td>0.109233</td>\n",
       "    </tr>\n",
       "    <tr>\n",
       "      <th>reliable</th>\n",
       "      <td>0.017557</td>\n",
       "    </tr>\n",
       "    <tr>\n",
       "      <th>satire</th>\n",
       "      <td>0.002939</td>\n",
       "    </tr>\n",
       "    <tr>\n",
       "      <th>unreliable</th>\n",
       "      <td>0.429211</td>\n",
       "    </tr>\n",
       "  </tbody>\n",
       "</table>\n",
       "</div>"
      ],
      "text/plain": [
       "            pred_prob\n",
       "type                 \n",
       "bias         0.870998\n",
       "clickbait    0.402490\n",
       "conspiracy   0.986072\n",
       "fake         0.993442\n",
       "hate         0.433329\n",
       "junksci      0.975060\n",
       "political    0.109233\n",
       "reliable     0.017557\n",
       "satire       0.002939\n",
       "unreliable   0.429211"
      ]
     },
     "execution_count": 40,
     "metadata": {},
     "output_type": "execute_result"
    }
   ],
   "source": [
    "allcat_data[[\"pred_prob\",\"type\"]].groupby([\"type\"]).median()"
   ]
  },
  {
   "cell_type": "code",
   "execution_count": 41,
   "metadata": {
    "id": "7OAV2swggMB-"
   },
   "outputs": [
    {
     "data": {
      "text/plain": [
       "0.4292108714580536"
      ]
     },
     "execution_count": 41,
     "metadata": {},
     "output_type": "execute_result"
    }
   ],
   "source": [
    "allcat_data[\"pred_prob\"].median()"
   ]
  },
  {
   "cell_type": "markdown",
   "metadata": {
    "id": "RMmtpCSELLyl"
   },
   "source": [
    "## Kaggle"
   ]
  },
  {
   "cell_type": "code",
   "execution_count": 42,
   "metadata": {
    "id": "e4imZ8i6jFXH"
   },
   "outputs": [
    {
     "name": "stdout",
     "output_type": "stream",
     "text": [
      "(6335, 781)\n"
     ]
    },
    {
     "data": {
      "text/html": [
       "<div>\n",
       "<style scoped>\n",
       "    .dataframe tbody tr th:only-of-type {\n",
       "        vertical-align: middle;\n",
       "    }\n",
       "\n",
       "    .dataframe tbody tr th {\n",
       "        vertical-align: top;\n",
       "    }\n",
       "\n",
       "    .dataframe thead th {\n",
       "        text-align: right;\n",
       "    }\n",
       "</style>\n",
       "<table border=\"1\" class=\"dataframe\">\n",
       "  <thead>\n",
       "    <tr style=\"text-align: right;\">\n",
       "      <th></th>\n",
       "      <th>id</th>\n",
       "      <th>article</th>\n",
       "      <th>0</th>\n",
       "      <th>1</th>\n",
       "      <th>2</th>\n",
       "      <th>3</th>\n",
       "      <th>4</th>\n",
       "      <th>5</th>\n",
       "      <th>6</th>\n",
       "      <th>7</th>\n",
       "      <th>...</th>\n",
       "      <th>exclamation_mark_binary</th>\n",
       "      <th>question_mark_count</th>\n",
       "      <th>question_mark_binary</th>\n",
       "      <th>missing_whitespace_count</th>\n",
       "      <th>vocabulary_size</th>\n",
       "      <th>average_sentence_count</th>\n",
       "      <th>swearword_binary</th>\n",
       "      <th>free_count</th>\n",
       "      <th>trump_count</th>\n",
       "      <th>dollar_count</th>\n",
       "    </tr>\n",
       "  </thead>\n",
       "  <tbody>\n",
       "    <tr>\n",
       "      <th>0</th>\n",
       "      <td>8476</td>\n",
       "      <td>Daniel Greenfield, a Shillman Journalism Fello...</td>\n",
       "      <td>-0.235716</td>\n",
       "      <td>-0.073718</td>\n",
       "      <td>-0.061959</td>\n",
       "      <td>0.040832</td>\n",
       "      <td>-0.085612</td>\n",
       "      <td>-0.189205</td>\n",
       "      <td>-0.096872</td>\n",
       "      <td>0.226301</td>\n",
       "      <td>...</td>\n",
       "      <td>0</td>\n",
       "      <td>3</td>\n",
       "      <td>1</td>\n",
       "      <td>0</td>\n",
       "      <td>582</td>\n",
       "      <td>87.395349</td>\n",
       "      <td>0</td>\n",
       "      <td>0</td>\n",
       "      <td>2</td>\n",
       "      <td>0</td>\n",
       "    </tr>\n",
       "    <tr>\n",
       "      <th>1</th>\n",
       "      <td>10294</td>\n",
       "      <td>Google Pinterest Digg Linkedin Reddit Stumbleu...</td>\n",
       "      <td>0.014883</td>\n",
       "      <td>-0.036141</td>\n",
       "      <td>0.200797</td>\n",
       "      <td>0.153579</td>\n",
       "      <td>-0.047223</td>\n",
       "      <td>-0.175186</td>\n",
       "      <td>0.131524</td>\n",
       "      <td>0.276761</td>\n",
       "      <td>...</td>\n",
       "      <td>0</td>\n",
       "      <td>0</td>\n",
       "      <td>0</td>\n",
       "      <td>3</td>\n",
       "      <td>287</td>\n",
       "      <td>91.241379</td>\n",
       "      <td>0</td>\n",
       "      <td>0</td>\n",
       "      <td>8</td>\n",
       "      <td>0</td>\n",
       "    </tr>\n",
       "    <tr>\n",
       "      <th>2</th>\n",
       "      <td>3608</td>\n",
       "      <td>U.S. Secretary of State John F. Kerry said Mon...</td>\n",
       "      <td>-0.347795</td>\n",
       "      <td>-0.011390</td>\n",
       "      <td>0.160139</td>\n",
       "      <td>0.155785</td>\n",
       "      <td>-0.058018</td>\n",
       "      <td>-0.132682</td>\n",
       "      <td>-0.210596</td>\n",
       "      <td>0.266900</td>\n",
       "      <td>...</td>\n",
       "      <td>0</td>\n",
       "      <td>0</td>\n",
       "      <td>0</td>\n",
       "      <td>2</td>\n",
       "      <td>252</td>\n",
       "      <td>101.720000</td>\n",
       "      <td>0</td>\n",
       "      <td>0</td>\n",
       "      <td>0</td>\n",
       "      <td>0</td>\n",
       "    </tr>\n",
       "    <tr>\n",
       "      <th>3</th>\n",
       "      <td>10142</td>\n",
       "      <td>— Kaydee King (@KaydeeKing) November 9, 2016 T...</td>\n",
       "      <td>0.037265</td>\n",
       "      <td>-0.112581</td>\n",
       "      <td>-0.034120</td>\n",
       "      <td>0.060214</td>\n",
       "      <td>-0.081085</td>\n",
       "      <td>-0.028430</td>\n",
       "      <td>0.086058</td>\n",
       "      <td>0.116612</td>\n",
       "      <td>...</td>\n",
       "      <td>1</td>\n",
       "      <td>0</td>\n",
       "      <td>0</td>\n",
       "      <td>1</td>\n",
       "      <td>261</td>\n",
       "      <td>147.777778</td>\n",
       "      <td>0</td>\n",
       "      <td>0</td>\n",
       "      <td>4</td>\n",
       "      <td>0</td>\n",
       "    </tr>\n",
       "    <tr>\n",
       "      <th>4</th>\n",
       "      <td>875</td>\n",
       "      <td>It's primary day in New York and front-runners...</td>\n",
       "      <td>-0.289572</td>\n",
       "      <td>-0.325648</td>\n",
       "      <td>-0.013354</td>\n",
       "      <td>-0.041397</td>\n",
       "      <td>-0.123089</td>\n",
       "      <td>-0.136803</td>\n",
       "      <td>0.109430</td>\n",
       "      <td>0.024566</td>\n",
       "      <td>...</td>\n",
       "      <td>1</td>\n",
       "      <td>0</td>\n",
       "      <td>0</td>\n",
       "      <td>1</td>\n",
       "      <td>189</td>\n",
       "      <td>83.636364</td>\n",
       "      <td>0</td>\n",
       "      <td>0</td>\n",
       "      <td>7</td>\n",
       "      <td>0</td>\n",
       "    </tr>\n",
       "  </tbody>\n",
       "</table>\n",
       "<p>5 rows × 781 columns</p>\n",
       "</div>"
      ],
      "text/plain": [
       "      id                                            article         0  \\\n",
       "0   8476  Daniel Greenfield, a Shillman Journalism Fello... -0.235716   \n",
       "1  10294  Google Pinterest Digg Linkedin Reddit Stumbleu...  0.014883   \n",
       "2   3608  U.S. Secretary of State John F. Kerry said Mon... -0.347795   \n",
       "3  10142  — Kaydee King (@KaydeeKing) November 9, 2016 T...  0.037265   \n",
       "4    875  It's primary day in New York and front-runners... -0.289572   \n",
       "\n",
       "          1         2         3         4         5         6         7  ...  \\\n",
       "0 -0.073718 -0.061959  0.040832 -0.085612 -0.189205 -0.096872  0.226301  ...   \n",
       "1 -0.036141  0.200797  0.153579 -0.047223 -0.175186  0.131524  0.276761  ...   \n",
       "2 -0.011390  0.160139  0.155785 -0.058018 -0.132682 -0.210596  0.266900  ...   \n",
       "3 -0.112581 -0.034120  0.060214 -0.081085 -0.028430  0.086058  0.116612  ...   \n",
       "4 -0.325648 -0.013354 -0.041397 -0.123089 -0.136803  0.109430  0.024566  ...   \n",
       "\n",
       "   exclamation_mark_binary  question_mark_count  question_mark_binary  \\\n",
       "0                        0                    3                     1   \n",
       "1                        0                    0                     0   \n",
       "2                        0                    0                     0   \n",
       "3                        1                    0                     0   \n",
       "4                        1                    0                     0   \n",
       "\n",
       "   missing_whitespace_count  vocabulary_size  average_sentence_count  \\\n",
       "0                         0              582               87.395349   \n",
       "1                         3              287               91.241379   \n",
       "2                         2              252              101.720000   \n",
       "3                         1              261              147.777778   \n",
       "4                         1              189               83.636364   \n",
       "\n",
       "   swearword_binary  free_count  trump_count  dollar_count  \n",
       "0                 0           0            2             0  \n",
       "1                 0           0            8             0  \n",
       "2                 0           0            0             0  \n",
       "3                 0           0            4             0  \n",
       "4                 0           0            7             0  \n",
       "\n",
       "[5 rows x 781 columns]"
      ]
     },
     "execution_count": 42,
     "metadata": {},
     "output_type": "execute_result"
    }
   ],
   "source": [
    "# Here get a data from DistilBERT - either calculate them and save or load them\n",
    "load_mode = True # True = only load, False = recalculate\n",
    "\n",
    "kaggle_data = pd.read_json(my_dir + 'test_set.json/test_set.json', orient='records')\n",
    "if load_mode:\n",
    "  kaggle_score_data = pd.read_csv(my_dir + \"kaggle_score_data.csv\")\n",
    "else:\n",
    "  kaggle_data = pd.read_json(my_dir + 'test_set.json/test_set.json', orient='records')\n",
    "  \n",
    "  # Use DistilBERT\n",
    "  kaggle_data_x = embeddings_distilbert(kaggle_data[\"article\"],1)\n",
    "  kaggle_data_after_bert = pd.concat([kaggle_data, pd.DataFrame(kaggle_data_x)], axis=1)\n",
    "\n",
    "  # Add features\n",
    "  kaggle_score_data = add_features(kaggle_data_after_bert, \"article\")\n",
    "\n",
    "  # Save\n",
    "  kaggle_score_data.to_csv(my_dir + \"kaggle_score_data.csv\", index = False)\n",
    "\n",
    "print(kaggle_score_data.shape)\n",
    "kaggle_score_data.head()"
   ]
  },
  {
   "cell_type": "code",
   "execution_count": 43,
   "metadata": {},
   "outputs": [
    {
     "name": "stdout",
     "output_type": "stream",
     "text": [
      "      id                                            article\n",
      "0   8476  Daniel Greenfield, a Shillman Journalism Fello...\n",
      "1  10294  Google Pinterest Digg Linkedin Reddit Stumbleu...\n",
      "2   3608  U.S. Secretary of State John F. Kerry said Mon...\n",
      "3  10142  — Kaydee King (@KaydeeKing) November 9, 2016 T...\n",
      "4    875  It's primary day in New York and front-runners...\n"
     ]
    }
   ],
   "source": [
    "kaggle_data = pd.read_json(my_dir + 'test_set.json/test_set.json', orient='records')\n",
    "print(kaggle_data.head())"
   ]
  },
  {
   "cell_type": "code",
   "execution_count": 44,
   "metadata": {
    "id": "VBsZlaPBM5SJ"
   },
   "outputs": [
    {
     "name": "stdout",
     "output_type": "stream",
     "text": [
      "          0         1         2         3         4         5         6  \\\n",
      "0 -0.235716 -0.073718 -0.061959  0.040832 -0.085612 -0.189205 -0.096872   \n",
      "1  0.014883 -0.036141  0.200797  0.153579 -0.047223 -0.175186  0.131524   \n",
      "2 -0.347795 -0.011390  0.160139  0.155785 -0.058018 -0.132682 -0.210596   \n",
      "3  0.037265 -0.112581 -0.034120  0.060214 -0.081085 -0.028430  0.086058   \n",
      "4 -0.289572 -0.325648 -0.013354 -0.041397 -0.123089 -0.136803  0.109430   \n",
      "\n",
      "          7         8         9  ...  exclamation_mark_binary  \\\n",
      "0  0.226301 -0.045092 -0.112854  ...                        0   \n",
      "1  0.276761 -0.036136 -0.249296  ...                        0   \n",
      "2  0.266900  0.141621 -0.239753  ...                        0   \n",
      "3  0.116612 -0.023817 -0.037898  ...                        1   \n",
      "4  0.024566 -0.145029 -0.504765  ...                        1   \n",
      "\n",
      "   question_mark_count  question_mark_binary  missing_whitespace_count  \\\n",
      "0                    3                     1                         0   \n",
      "1                    0                     0                         3   \n",
      "2                    0                     0                         2   \n",
      "3                    0                     0                         1   \n",
      "4                    0                     0                         1   \n",
      "\n",
      "   vocabulary_size  average_sentence_count  swearword_binary  free_count  \\\n",
      "0              582               87.395349                 0           0   \n",
      "1              287               91.241379                 0           0   \n",
      "2              252              101.720000                 0           0   \n",
      "3              261              147.777778                 0           0   \n",
      "4              189               83.636364                 0           0   \n",
      "\n",
      "   trump_count  dollar_count  \n",
      "0            2             0  \n",
      "1            8             0  \n",
      "2            0             0  \n",
      "3            4             0  \n",
      "4            7             0  \n",
      "\n",
      "[5 rows x 779 columns]\n"
     ]
    }
   ],
   "source": [
    "# Save X for prediction\n",
    "kaggle_X = kaggle_score_data.iloc[:,2:]\n",
    "print(kaggle_X.head())"
   ]
  },
  {
   "cell_type": "code",
   "execution_count": 45,
   "metadata": {
    "id": "qjpAz1jZP-rg"
   },
   "outputs": [
    {
     "data": {
      "image/png": "[encoded data removed]",
      "text/plain": [
       "<Figure size 432x288 with 1 Axes>"
      ]
     },
     "metadata": {
      "needs_background": "light"
     },
     "output_type": "display_data"
    }
   ],
   "source": [
    "# Predict probability and see histogram\n",
    "plt.hist(predict_prob(kaggle_X, net2))\n",
    "plt.show()"
   ]
  },
  {
   "cell_type": "code",
   "execution_count": 46,
   "metadata": {
    "id": "thl3r0eWOcwM"
   },
   "outputs": [
    {
     "name": "stdout",
     "output_type": "stream",
     "text": [
      "0.25308067\n"
     ]
    },
    {
     "data": {
      "text/plain": [
       "Counter({'REAL': 4355, 'FAKE': 1980})"
      ]
     },
     "execution_count": 46,
     "metadata": {},
     "output_type": "execute_result"
    }
   ],
   "source": [
    "# Find best threshold\n",
    "best_threshold = np.median(predict_prob(kaggle_X, net2)) # data 50:50\n",
    "print(best_threshold)\n",
    "\n",
    "# Predict by that threshold\n",
    "kaggle_pred = np.where(predict_binary(kaggle_X, net2, 0.5)==1, \"FAKE\", \"REAL\") \n",
    "\n",
    "Counter(kaggle_pred)"
   ]
  },
  {
   "cell_type": "code",
   "execution_count": 47,
   "metadata": {
    "id": "8Tzx2so7LODo"
   },
   "outputs": [
    {
     "data": {
      "text/html": [
       "<div>\n",
       "<style scoped>\n",
       "    .dataframe tbody tr th:only-of-type {\n",
       "        vertical-align: middle;\n",
       "    }\n",
       "\n",
       "    .dataframe tbody tr th {\n",
       "        vertical-align: top;\n",
       "    }\n",
       "\n",
       "    .dataframe thead th {\n",
       "        text-align: right;\n",
       "    }\n",
       "</style>\n",
       "<table border=\"1\" class=\"dataframe\">\n",
       "  <thead>\n",
       "    <tr style=\"text-align: right;\">\n",
       "      <th></th>\n",
       "      <th>id</th>\n",
       "      <th>label</th>\n",
       "    </tr>\n",
       "  </thead>\n",
       "  <tbody>\n",
       "    <tr>\n",
       "      <th>0</th>\n",
       "      <td>8476</td>\n",
       "      <td>REAL</td>\n",
       "    </tr>\n",
       "    <tr>\n",
       "      <th>1</th>\n",
       "      <td>10294</td>\n",
       "      <td>FAKE</td>\n",
       "    </tr>\n",
       "    <tr>\n",
       "      <th>2</th>\n",
       "      <td>3608</td>\n",
       "      <td>REAL</td>\n",
       "    </tr>\n",
       "    <tr>\n",
       "      <th>3</th>\n",
       "      <td>10142</td>\n",
       "      <td>FAKE</td>\n",
       "    </tr>\n",
       "    <tr>\n",
       "      <th>4</th>\n",
       "      <td>875</td>\n",
       "      <td>REAL</td>\n",
       "    </tr>\n",
       "  </tbody>\n",
       "</table>\n",
       "</div>"
      ],
      "text/plain": [
       "      id label\n",
       "0   8476  REAL\n",
       "1  10294  FAKE\n",
       "2   3608  REAL\n",
       "3  10142  FAKE\n",
       "4    875  REAL"
      ]
     },
     "execution_count": 47,
     "metadata": {},
     "output_type": "execute_result"
    }
   ],
   "source": [
    "# Prepare submit data to the right format\n",
    "submit_data = kaggle_data.copy()\n",
    "submit_data[\"label\"] = kaggle_pred\n",
    "submit_data = submit_data.drop(columns=[\"article\"])\n",
    "\n",
    "submit_data.head()"
   ]
  },
  {
   "cell_type": "code",
   "execution_count": 48,
   "metadata": {
    "id": "fUzkdEDGMxhn"
   },
   "outputs": [],
   "source": [
    "# Save submit data\n",
    "submit_data.to_csv(my_dir + \"submission_after.csv\", index = False)"
   ]
  },
  {
   "cell_type": "markdown",
   "metadata": {
    "id": "i5m4CcLFY1-3"
   },
   "source": [
    "## LIAR"
   ]
  },
  {
   "cell_type": "code",
   "execution_count": 49,
   "metadata": {
    "id": "aEXdrwFQrW3V"
   },
   "outputs": [
    {
     "data": {
      "text/html": [
       "<div>\n",
       "<style scoped>\n",
       "    .dataframe tbody tr th:only-of-type {\n",
       "        vertical-align: middle;\n",
       "    }\n",
       "\n",
       "    .dataframe tbody tr th {\n",
       "        vertical-align: top;\n",
       "    }\n",
       "\n",
       "    .dataframe thead th {\n",
       "        text-align: right;\n",
       "    }\n",
       "</style>\n",
       "<table border=\"1\" class=\"dataframe\">\n",
       "  <thead>\n",
       "    <tr style=\"text-align: right;\">\n",
       "      <th></th>\n",
       "      <th>id</th>\n",
       "      <th>content</th>\n",
       "      <th>target</th>\n",
       "    </tr>\n",
       "  </thead>\n",
       "  <tbody>\n",
       "    <tr>\n",
       "      <th>0</th>\n",
       "      <td>11972.json</td>\n",
       "      <td>Building a wall on the U.S.-Mexico border will...</td>\n",
       "      <td>REAL</td>\n",
       "    </tr>\n",
       "    <tr>\n",
       "      <th>1</th>\n",
       "      <td>5962.json</td>\n",
       "      <td>Over the past five years the federal governmen...</td>\n",
       "      <td>REAL</td>\n",
       "    </tr>\n",
       "    <tr>\n",
       "      <th>2</th>\n",
       "      <td>7070.json</td>\n",
       "      <td>Says that Tennessee law requires that schools ...</td>\n",
       "      <td>REAL</td>\n",
       "    </tr>\n",
       "    <tr>\n",
       "      <th>3</th>\n",
       "      <td>12849.json</td>\n",
       "      <td>Donald Trump is against marriage equality. He ...</td>\n",
       "      <td>REAL</td>\n",
       "    </tr>\n",
       "    <tr>\n",
       "      <th>4</th>\n",
       "      <td>4888.json</td>\n",
       "      <td>Says the unemployment rate for college graduat...</td>\n",
       "      <td>REAL</td>\n",
       "    </tr>\n",
       "  </tbody>\n",
       "</table>\n",
       "</div>"
      ],
      "text/plain": [
       "           id                                            content target\n",
       "0  11972.json  Building a wall on the U.S.-Mexico border will...   REAL\n",
       "1   5962.json  Over the past five years the federal governmen...   REAL\n",
       "2   7070.json  Says that Tennessee law requires that schools ...   REAL\n",
       "3  12849.json  Donald Trump is against marriage equality. He ...   REAL\n",
       "4   4888.json  Says the unemployment rate for college graduat...   REAL"
      ]
     },
     "execution_count": 49,
     "metadata": {},
     "output_type": "execute_result"
    }
   ],
   "source": [
    "data_LIAR = pd.read_csv(my_dir + \"our_data_LIAR.csv\",sep=',', header=0, index_col=0)\n",
    "data_LIAR.head()"
   ]
  },
  {
   "cell_type": "code",
   "execution_count": 50,
   "metadata": {},
   "outputs": [
    {
     "name": "stderr",
     "output_type": "stream",
     "text": [
      "Some weights of the model checkpoint at distilbert-base-uncased were not used when initializing DistilBertModel: ['vocab_layer_norm.weight', 'vocab_transform.weight', 'vocab_transform.bias', 'vocab_projector.bias', 'vocab_layer_norm.bias', 'vocab_projector.weight']\n",
      "- This IS expected if you are initializing DistilBertModel from the checkpoint of a model trained on another task or with another architecture (e.g. initializing a BertForSequenceClassification model from a BertForPreTraining model).\n",
      "- This IS NOT expected if you are initializing DistilBertModel from the checkpoint of a model that you expect to be exactly identical (initializing a BertForSequenceClassification model from a BertForSequenceClassification model).\n"
     ]
    },
    {
     "name": "stdout",
     "output_type": "stream",
     "text": [
      "Tokenization DONE\n",
      "Padding DONE\n",
      "0\n",
      "Embeddings DONE\n",
      "(790, 782)\n"
     ]
    },
    {
     "data": {
      "text/html": [
       "<div>\n",
       "<style scoped>\n",
       "    .dataframe tbody tr th:only-of-type {\n",
       "        vertical-align: middle;\n",
       "    }\n",
       "\n",
       "    .dataframe tbody tr th {\n",
       "        vertical-align: top;\n",
       "    }\n",
       "\n",
       "    .dataframe thead th {\n",
       "        text-align: right;\n",
       "    }\n",
       "</style>\n",
       "<table border=\"1\" class=\"dataframe\">\n",
       "  <thead>\n",
       "    <tr style=\"text-align: right;\">\n",
       "      <th></th>\n",
       "      <th>id</th>\n",
       "      <th>content</th>\n",
       "      <th>target</th>\n",
       "      <th>0</th>\n",
       "      <th>1</th>\n",
       "      <th>2</th>\n",
       "      <th>3</th>\n",
       "      <th>4</th>\n",
       "      <th>5</th>\n",
       "      <th>6</th>\n",
       "      <th>...</th>\n",
       "      <th>exclamation_mark_binary</th>\n",
       "      <th>question_mark_count</th>\n",
       "      <th>question_mark_binary</th>\n",
       "      <th>missing_whitespace_count</th>\n",
       "      <th>vocabulary_size</th>\n",
       "      <th>average_sentence_count</th>\n",
       "      <th>swearword_binary</th>\n",
       "      <th>free_count</th>\n",
       "      <th>trump_count</th>\n",
       "      <th>dollar_count</th>\n",
       "    </tr>\n",
       "  </thead>\n",
       "  <tbody>\n",
       "    <tr>\n",
       "      <th>0</th>\n",
       "      <td>11972.json</td>\n",
       "      <td>Building a wall on the U.S.-Mexico border will...</td>\n",
       "      <td>REAL</td>\n",
       "      <td>0.146081</td>\n",
       "      <td>-0.147743</td>\n",
       "      <td>0.005782</td>\n",
       "      <td>-0.150747</td>\n",
       "      <td>0.056791</td>\n",
       "      <td>-0.362295</td>\n",
       "      <td>0.129812</td>\n",
       "      <td>...</td>\n",
       "      <td>0</td>\n",
       "      <td>0</td>\n",
       "      <td>0</td>\n",
       "      <td>1</td>\n",
       "      <td>11</td>\n",
       "      <td>17.0</td>\n",
       "      <td>0</td>\n",
       "      <td>0</td>\n",
       "      <td>0</td>\n",
       "      <td>0</td>\n",
       "    </tr>\n",
       "    <tr>\n",
       "      <th>1</th>\n",
       "      <td>5962.json</td>\n",
       "      <td>Over the past five years the federal governmen...</td>\n",
       "      <td>REAL</td>\n",
       "      <td>-0.297198</td>\n",
       "      <td>0.080091</td>\n",
       "      <td>-0.389786</td>\n",
       "      <td>-0.110246</td>\n",
       "      <td>0.043642</td>\n",
       "      <td>0.149937</td>\n",
       "      <td>0.294777</td>\n",
       "      <td>...</td>\n",
       "      <td>0</td>\n",
       "      <td>0</td>\n",
       "      <td>0</td>\n",
       "      <td>0</td>\n",
       "      <td>21</td>\n",
       "      <td>74.5</td>\n",
       "      <td>0</td>\n",
       "      <td>0</td>\n",
       "      <td>0</td>\n",
       "      <td>0</td>\n",
       "    </tr>\n",
       "    <tr>\n",
       "      <th>2</th>\n",
       "      <td>7070.json</td>\n",
       "      <td>Says that Tennessee law requires that schools ...</td>\n",
       "      <td>REAL</td>\n",
       "      <td>-0.129035</td>\n",
       "      <td>-0.304517</td>\n",
       "      <td>-0.428731</td>\n",
       "      <td>-0.028575</td>\n",
       "      <td>0.131401</td>\n",
       "      <td>-0.094612</td>\n",
       "      <td>0.435311</td>\n",
       "      <td>...</td>\n",
       "      <td>0</td>\n",
       "      <td>0</td>\n",
       "      <td>0</td>\n",
       "      <td>0</td>\n",
       "      <td>25</td>\n",
       "      <td>77.5</td>\n",
       "      <td>0</td>\n",
       "      <td>0</td>\n",
       "      <td>0</td>\n",
       "      <td>0</td>\n",
       "    </tr>\n",
       "    <tr>\n",
       "      <th>3</th>\n",
       "      <td>12849.json</td>\n",
       "      <td>Donald Trump is against marriage equality. He ...</td>\n",
       "      <td>REAL</td>\n",
       "      <td>-0.278743</td>\n",
       "      <td>-0.430292</td>\n",
       "      <td>-0.103802</td>\n",
       "      <td>-0.010968</td>\n",
       "      <td>-0.183156</td>\n",
       "      <td>-0.286978</td>\n",
       "      <td>0.316287</td>\n",
       "      <td>...</td>\n",
       "      <td>0</td>\n",
       "      <td>0</td>\n",
       "      <td>0</td>\n",
       "      <td>0</td>\n",
       "      <td>11</td>\n",
       "      <td>21.0</td>\n",
       "      <td>0</td>\n",
       "      <td>0</td>\n",
       "      <td>1</td>\n",
       "      <td>0</td>\n",
       "    </tr>\n",
       "    <tr>\n",
       "      <th>4</th>\n",
       "      <td>4888.json</td>\n",
       "      <td>Says the unemployment rate for college graduat...</td>\n",
       "      <td>REAL</td>\n",
       "      <td>-0.214627</td>\n",
       "      <td>0.080253</td>\n",
       "      <td>-0.154860</td>\n",
       "      <td>0.098646</td>\n",
       "      <td>-0.002762</td>\n",
       "      <td>0.185149</td>\n",
       "      <td>0.213731</td>\n",
       "      <td>...</td>\n",
       "      <td>0</td>\n",
       "      <td>0</td>\n",
       "      <td>0</td>\n",
       "      <td>1</td>\n",
       "      <td>14</td>\n",
       "      <td>36.0</td>\n",
       "      <td>0</td>\n",
       "      <td>0</td>\n",
       "      <td>0</td>\n",
       "      <td>0</td>\n",
       "    </tr>\n",
       "  </tbody>\n",
       "</table>\n",
       "<p>5 rows × 782 columns</p>\n",
       "</div>"
      ],
      "text/plain": [
       "           id                                            content target  \\\n",
       "0  11972.json  Building a wall on the U.S.-Mexico border will...   REAL   \n",
       "1   5962.json  Over the past five years the federal governmen...   REAL   \n",
       "2   7070.json  Says that Tennessee law requires that schools ...   REAL   \n",
       "3  12849.json  Donald Trump is against marriage equality. He ...   REAL   \n",
       "4   4888.json  Says the unemployment rate for college graduat...   REAL   \n",
       "\n",
       "          0         1         2         3         4         5         6  ...  \\\n",
       "0  0.146081 -0.147743  0.005782 -0.150747  0.056791 -0.362295  0.129812  ...   \n",
       "1 -0.297198  0.080091 -0.389786 -0.110246  0.043642  0.149937  0.294777  ...   \n",
       "2 -0.129035 -0.304517 -0.428731 -0.028575  0.131401 -0.094612  0.435311  ...   \n",
       "3 -0.278743 -0.430292 -0.103802 -0.010968 -0.183156 -0.286978  0.316287  ...   \n",
       "4 -0.214627  0.080253 -0.154860  0.098646 -0.002762  0.185149  0.213731  ...   \n",
       "\n",
       "   exclamation_mark_binary  question_mark_count  question_mark_binary  \\\n",
       "0                        0                    0                     0   \n",
       "1                        0                    0                     0   \n",
       "2                        0                    0                     0   \n",
       "3                        0                    0                     0   \n",
       "4                        0                    0                     0   \n",
       "\n",
       "   missing_whitespace_count  vocabulary_size  average_sentence_count  \\\n",
       "0                         1               11                    17.0   \n",
       "1                         0               21                    74.5   \n",
       "2                         0               25                    77.5   \n",
       "3                         0               11                    21.0   \n",
       "4                         1               14                    36.0   \n",
       "\n",
       "   swearword_binary  free_count  trump_count  dollar_count  \n",
       "0                 0           0            0             0  \n",
       "1                 0           0            0             0  \n",
       "2                 0           0            0             0  \n",
       "3                 0           0            1             0  \n",
       "4                 0           0            0             0  \n",
       "\n",
       "[5 rows x 782 columns]"
      ]
     },
     "execution_count": 50,
     "metadata": {},
     "output_type": "execute_result"
    }
   ],
   "source": [
    "# Here get a data from DistilBERT - either calculate them and save or load them\n",
    "load_mode = False # True = only load, False = recalculate\n",
    "\n",
    "\n",
    "if load_mode:\n",
    "  LIAR_score_data = pd.read_csv(my_dir + \"LIAR_score_data.csv\")\n",
    "else:\n",
    "  LIAR_data = data_LIAR.copy()\n",
    "  \n",
    "  # Use DistilBERT\n",
    "  LIAR_data_x = embeddings_distilbert(LIAR_data.content,1)\n",
    "  LIAR_data_after_bert = pd.concat([LIAR_data, pd.DataFrame(LIAR_data_x)], axis=1)\n",
    "\n",
    "  # Add features\n",
    "  LIAR_score_data = add_features(LIAR_data_after_bert, \"content\")\n",
    "\n",
    "  # Save\n",
    "  LIAR_score_data.to_csv(my_dir + \"LIAR_score_data.csv\", index = False)\n",
    "\n",
    "print(LIAR_score_data.shape)\n",
    "LIAR_score_data.head()"
   ]
  },
  {
   "cell_type": "code",
   "execution_count": 51,
   "metadata": {
    "id": "IPVL4wWb-i_x"
   },
   "outputs": [
    {
     "name": "stdout",
     "output_type": "stream",
     "text": [
      "          0         1         2         3         4         5         6  \\\n",
      "0  0.146081 -0.147743  0.005782 -0.150747  0.056791 -0.362295  0.129812   \n",
      "1 -0.297198  0.080091 -0.389786 -0.110246  0.043642  0.149937  0.294777   \n",
      "2 -0.129035 -0.304517 -0.428731 -0.028575  0.131401 -0.094612  0.435311   \n",
      "3 -0.278743 -0.430292 -0.103802 -0.010968 -0.183156 -0.286978  0.316287   \n",
      "4 -0.214627  0.080253 -0.154860  0.098646 -0.002762  0.185149  0.213731   \n",
      "\n",
      "          7         8         9  ...  exclamation_mark_binary  \\\n",
      "0  0.202717 -0.003260 -0.414731  ...                        0   \n",
      "1  0.305387 -0.338505 -0.171483  ...                        0   \n",
      "2  0.223624 -0.102095 -0.125591  ...                        0   \n",
      "3  0.465870 -0.220259 -0.415867  ...                        0   \n",
      "4  0.661956 -0.173590 -0.119121  ...                        0   \n",
      "\n",
      "   question_mark_count  question_mark_binary  missing_whitespace_count  \\\n",
      "0                    0                     0                         1   \n",
      "1                    0                     0                         0   \n",
      "2                    0                     0                         0   \n",
      "3                    0                     0                         0   \n",
      "4                    0                     0                         1   \n",
      "\n",
      "   vocabulary_size  average_sentence_count  swearword_binary  free_count  \\\n",
      "0               11                    17.0                 0           0   \n",
      "1               21                    74.5                 0           0   \n",
      "2               25                    77.5                 0           0   \n",
      "3               11                    21.0                 0           0   \n",
      "4               14                    36.0                 0           0   \n",
      "\n",
      "   trump_count  dollar_count  \n",
      "0            0             0  \n",
      "1            0             0  \n",
      "2            0             0  \n",
      "3            1             0  \n",
      "4            0             0  \n",
      "\n",
      "[5 rows x 779 columns]\n"
     ]
    }
   ],
   "source": [
    "LIAR_X = LIAR_score_data.iloc[:,3:]\n",
    "print(LIAR_X.head())\n"
   ]
  },
  {
   "cell_type": "code",
   "execution_count": 52,
   "metadata": {},
   "outputs": [
    {
     "data": {
      "image/png": "[encoded data removed]",
      "text/plain": [
       "<Figure size 432x288 with 1 Axes>"
      ]
     },
     "metadata": {
      "needs_background": "light"
     },
     "output_type": "display_data"
    }
   ],
   "source": [
    "# Predict probability and see histogram\n",
    "plt.hist(predict_prob(LIAR_X, net2))\n",
    "plt.show()"
   ]
  },
  {
   "cell_type": "code",
   "execution_count": 53,
   "metadata": {},
   "outputs": [
    {
     "data": {
      "text/plain": [
       "0.5936708860759494"
      ]
     },
     "execution_count": 53,
     "metadata": {},
     "output_type": "execute_result"
    }
   ],
   "source": [
    "from sklearn.metrics import accuracy_score\n",
    "# Find best threshold\n",
    "threshold1 = np.median(predict_prob(LIAR_X, net2)) # data 50:50\n",
    "\n",
    "\n",
    "# Predict by that threshold\n",
    "LIAR_pred = np.where(predict_binary(LIAR_X, net2, 0.5)==1, \"FAKE\", \"REAL\") \n",
    "true_val = data_LIAR.target\n",
    "\n",
    "accuracy_score(true_val,LIAR_pred)\n",
    "\n"
   ]
  },
  {
   "cell_type": "code",
   "execution_count": null,
   "metadata": {},
   "outputs": [],
   "source": []
  },
  {
   "cell_type": "code",
   "execution_count": null,
   "metadata": {},
   "outputs": [],
   "source": []
  }
 ],
 "metadata": {
  "accelerator": "GPU",
  "colab": {
   "collapsed_sections": [],
   "name": "Final model v3.ipynb",
   "provenance": []
  },
  "kernelspec": {
   "display_name": "Python 3",
   "language": "python",
   "name": "python3"
  },
  "language_info": {
   "codemirror_mode": {
    "name": "ipython",
    "version": 3
   },
   "file_extension": ".py",
   "mimetype": "text/x-python",
   "name": "python",
   "nbconvert_exporter": "python",
   "pygments_lexer": "ipython3",
   "version": "3.8.5"
  }
 },
 "nbformat": 4,
 "nbformat_minor": 1
}
